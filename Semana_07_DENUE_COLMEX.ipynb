{
  "nbformat": 4,
  "nbformat_minor": 0,
  "metadata": {
    "colab": {
      "provenance": [],
      "authorship_tag": "ABX9TyPLWglBDUJ4/OCt+BVXZp9s",
      "include_colab_link": true
    },
    "kernelspec": {
      "name": "python3",
      "display_name": "Python 3"
    },
    "language_info": {
      "name": "python"
    }
  },
  "cells": [
    {
      "cell_type": "markdown",
      "metadata": {
        "id": "view-in-github",
        "colab_type": "text"
      },
      "source": [
        "<a href=\"https://colab.research.google.com/github/abxda/COLMEX-ML/blob/main/Semana_07_DENUE_COLMEX.ipynb\" target=\"_parent\"><img src=\"https://colab.research.google.com/assets/colab-badge.svg\" alt=\"Open In Colab\"/></a>"
      ]
    },
    {
      "cell_type": "code",
      "execution_count": null,
      "metadata": {
        "id": "TOZTIaakJBdp"
      },
      "outputs": [],
      "source": [
        "import os\n",
        "import time\n",
        "from zipfile import ZipFile\n",
        "import requests\n",
        "from tqdm import tqdm\n",
        "import duckdb\n",
        "import geopandas as gpd\n",
        "import shutil"
      ]
    },
    {
      "cell_type": "code",
      "source": [
        "# --------------------------------------------------\n",
        "# 1. Configuración\n",
        "# --------------------------------------------------\n",
        "\n",
        "urls_denue = [\n",
        "    f\"https://www.inegi.org.mx/contenidos/masiva/denue/denue_{str(i).zfill(2)}_shp.zip\"\n",
        "    for i in list(range(1, 15)) + [\"15_1\", \"15_2\"] + list(range(16, 33))\n",
        "]\n",
        "\n",
        "base_dir = \"denue_data\"\n",
        "zip_dir = os.path.join(base_dir, \"zips\")\n",
        "shp_dir = os.path.join(base_dir, \"shp\")\n",
        "geo_parquet_dir = os.path.join(base_dir, \"geoparquet\")\n",
        "os.makedirs(base_dir, exist_ok=True)\n",
        "os.makedirs(shp_dir, exist_ok=True)\n",
        "os.makedirs(geo_parquet_unificado := os.path.join(base_dir, \"geoparquet_unificado\"), exist_ok=True)\n",
        "\n",
        "# Funciones\n",
        "\n",
        "def download(url, directory):\n",
        "    filename = url.split('/')[-1]\n",
        "    filepath = os.path.join(directory, filename)\n",
        "    if os.path.exists(filepath):\n",
        "        print(f\"{filename} ya existe.\")\n",
        "        return filepath\n",
        "    print(f\"Descargando {filename} ...\")\n",
        "    r = requests.get(url, stream=True)\n",
        "    with open(filepath, 'wb') as f:\n",
        "        for data in r.iter_content(1024):\n",
        "            f.write(data)\n",
        "    return filepath\n",
        "\n",
        "def extract_shapefile(zip_path, shp_dir):\n",
        "    with ZipFile(zip_path, 'r') as z:\n",
        "        z.extractall(shp_dir)\n",
        "    print(f\"Extraído {zip_path} en {shp_dir}\")\n",
        "\n",
        "def convert_to_geoparquet(shp_dir):\n",
        "    for root, _, files in os.walk(shp_dir):\n",
        "        for file in files:\n",
        "            if file.endswith('.shp'):\n",
        "                shp_path = os.path.join(root, file)\n",
        "                parquet_path = shp_path.replace('.shp', '.geoparquet')\n",
        "                if os.path.exists(parquet_path):\n",
        "                    continue\n",
        "                gdf = gpd.read_file(shp_path,  encoding='ISO-8859-1')\n",
        "                gdf.to_parquet(parquet_path)"
      ],
      "metadata": {
        "id": "Y9-WF4ptJIb0"
      },
      "execution_count": null,
      "outputs": []
    },
    {
      "cell_type": "code",
      "source": [
        "# Procesamiento\n",
        "\n",
        "# Descarga y extracción\n",
        "for url in urls_denue:\n",
        "    zip_path = download(url, base_dir)\n",
        "    extract_shapefile(zip_path, shp_dir)"
      ],
      "metadata": {
        "id": "76uA_NovVpd5"
      },
      "execution_count": null,
      "outputs": []
    },
    {
      "cell_type": "code",
      "source": [
        "# Conversión a GeoParquet\n",
        "convert_to_geoparquet(shp_dir)"
      ],
      "metadata": {
        "id": "R0P9_klfJNHr"
      },
      "execution_count": null,
      "outputs": []
    },
    {
      "cell_type": "code",
      "source": [
        "dst"
      ],
      "metadata": {
        "id": "ZYvITob5XYxB"
      },
      "execution_count": null,
      "outputs": []
    },
    {
      "cell_type": "code",
      "source": [
        "# Unificación GeoParquet\n",
        "for root, dirs, files in os.walk(shp_dir):\n",
        "    for file in files:\n",
        "        if file.endswith('.geoparquet'):\n",
        "            src = os.path.join(root, file)\n",
        "            dst = os.path.join(geo_parquet_unificado, file)\n",
        "            shutil.copy(src, dst)"
      ],
      "metadata": {
        "id": "d21oEPBeXPJz"
      },
      "execution_count": null,
      "outputs": []
    },
    {
      "cell_type": "code",
      "source": [
        "parquet_files = [os.path.join(geo_parquet_unificado, f) for f in os.listdir(geo_parquet_unificado)]"
      ],
      "metadata": {
        "id": "zdikG8w1YD9T"
      },
      "execution_count": null,
      "outputs": []
    },
    {
      "cell_type": "code",
      "source": [],
      "metadata": {
        "id": "g7rVVuDtJSVa"
      },
      "execution_count": null,
      "outputs": []
    },
    {
      "cell_type": "code",
      "source": [
        "# Creación DuckDB\n",
        "# Creación del nuevo archivo DuckDB con campos adicionales\n",
        "db_nacional_path = \"denue_total_4.duckdb\"\n",
        "if os.path.exists(db_nacional_path):\n",
        "    os.remove(db_nacional_path)\n",
        "con_nacional = duckdb.connect(db_nacional_path)\n",
        "\n",
        "con_nacional.execute(\"INSTALL spatial;\")\n",
        "con_nacional.execute(\"LOAD spatial;\")\n",
        "\n",
        "con_nacional.execute(\"DROP TABLE IF EXISTS denue;\")\n",
        "con_nacional.execute(f\"\"\"\n",
        "    CREATE TABLE denue AS\n",
        "    SELECT\n",
        "        *\n",
        "    FROM read_parquet({parquet_files});\n",
        "\"\"\")\n",
        "\n",
        "print(\"Archivo denue_nacional.duckdb creado exitosamente.\")\n"
      ],
      "metadata": {
        "id": "ohXx-5WbYL86"
      },
      "execution_count": null,
      "outputs": []
    },
    {
      "cell_type": "code",
      "source": [
        "con_nacional.execute(\"select * from denue limit 10\").df()"
      ],
      "metadata": {
        "id": "gw2ff-W3nHOl"
      },
      "execution_count": null,
      "outputs": []
    },
    {
      "cell_type": "code",
      "source": [
        "con_nacional.close()"
      ],
      "metadata": {
        "id": "H5kvPHdO_o2L"
      },
      "execution_count": null,
      "outputs": []
    },
    {
      "cell_type": "code",
      "source": [],
      "metadata": {
        "id": "UvsGcAxF9QgR"
      },
      "execution_count": null,
      "outputs": []
    }
  ]
}