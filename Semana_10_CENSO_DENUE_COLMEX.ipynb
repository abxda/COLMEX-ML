{
  "nbformat": 4,
  "nbformat_minor": 0,
  "metadata": {
    "colab": {
      "provenance": [],
      "authorship_tag": "ABX9TyOFg8O8NAWyWP+IkfLPlDU7",
      "include_colab_link": true
    },
    "kernelspec": {
      "name": "python3",
      "display_name": "Python 3"
    },
    "language_info": {
      "name": "python"
    },
    "widgets": {
      "application/vnd.jupyter.widget-state+json": {
        "1853c1c7000341afb04399f7e69d5150": {
          "model_module": "@jupyter-widgets/controls",
          "model_name": "FloatProgressModel",
          "model_module_version": "1.5.0",
          "state": {
            "_dom_classes": [],
            "_model_module": "@jupyter-widgets/controls",
            "_model_module_version": "1.5.0",
            "_model_name": "FloatProgressModel",
            "_view_count": null,
            "_view_module": "@jupyter-widgets/controls",
            "_view_module_version": "1.5.0",
            "_view_name": "ProgressView",
            "bar_style": "",
            "description": "",
            "description_tooltip": null,
            "layout": "IPY_MODEL_cd347f61c1ea42c3ae3eee8b700d2142",
            "max": 100,
            "min": 0,
            "orientation": "horizontal",
            "style": "IPY_MODEL_dd024b92a7bf41c6af518b11fb8fa48e",
            "value": 100
          }
        },
        "cd347f61c1ea42c3ae3eee8b700d2142": {
          "model_module": "@jupyter-widgets/base",
          "model_name": "LayoutModel",
          "model_module_version": "1.2.0",
          "state": {
            "_model_module": "@jupyter-widgets/base",
            "_model_module_version": "1.2.0",
            "_model_name": "LayoutModel",
            "_view_count": null,
            "_view_module": "@jupyter-widgets/base",
            "_view_module_version": "1.2.0",
            "_view_name": "LayoutView",
            "align_content": null,
            "align_items": null,
            "align_self": null,
            "border": null,
            "bottom": null,
            "display": null,
            "flex": null,
            "flex_flow": null,
            "grid_area": null,
            "grid_auto_columns": null,
            "grid_auto_flow": null,
            "grid_auto_rows": null,
            "grid_column": null,
            "grid_gap": null,
            "grid_row": null,
            "grid_template_areas": null,
            "grid_template_columns": null,
            "grid_template_rows": null,
            "height": null,
            "justify_content": null,
            "justify_items": null,
            "left": null,
            "margin": null,
            "max_height": null,
            "max_width": null,
            "min_height": null,
            "min_width": null,
            "object_fit": null,
            "object_position": null,
            "order": null,
            "overflow": null,
            "overflow_x": null,
            "overflow_y": null,
            "padding": null,
            "right": null,
            "top": null,
            "visibility": null,
            "width": "auto"
          }
        },
        "dd024b92a7bf41c6af518b11fb8fa48e": {
          "model_module": "@jupyter-widgets/controls",
          "model_name": "ProgressStyleModel",
          "model_module_version": "1.5.0",
          "state": {
            "_model_module": "@jupyter-widgets/controls",
            "_model_module_version": "1.5.0",
            "_model_name": "ProgressStyleModel",
            "_view_count": null,
            "_view_module": "@jupyter-widgets/base",
            "_view_module_version": "1.2.0",
            "_view_name": "StyleView",
            "bar_color": "black",
            "description_width": ""
          }
        }
      }
    }
  },
  "cells": [
    {
      "cell_type": "markdown",
      "metadata": {
        "id": "view-in-github",
        "colab_type": "text"
      },
      "source": [
        "<a href=\"https://colab.research.google.com/github/abxda/COLMEX-ML/blob/main/Semana_10_CENSO_DENUE_COLMEX.ipynb\" target=\"_parent\"><img src=\"https://colab.research.google.com/assets/colab-badge.svg\" alt=\"Open In Colab\"/></a>"
      ]
    },
    {
      "cell_type": "code",
      "execution_count": null,
      "metadata": {
        "id": "Pto540nBZ41x"
      },
      "outputs": [],
      "source": [
        "#https://drive.google.com/file/d/1WcTuLEkICVg2A9j98EZWuSgjUhO8AIRI/view?usp=sharing\n",
        "#https://drive.google.com/file/d/1gYWtwKDpJK0_uBOJvvwkXK8Hy8w8mL0p/view?usp=sharing\n",
        "#https://drive.google.com/file/d/1LVPNaUxto31HE-UQIO1-4l6XPER9Ry5l/view?usp=sharing"
      ]
    },
    {
      "cell_type": "code",
      "source": [
        "!gdown --id 1WcTuLEkICVg2A9j98EZWuSgjUhO8AIRI"
      ],
      "metadata": {
        "colab": {
          "base_uri": "https://localhost:8080/"
        },
        "id": "aU-jBjAFaFUB",
        "outputId": "d38684b3-c7f8-40bb-e55b-1edf57ee9d57"
      },
      "execution_count": 1,
      "outputs": [
        {
          "output_type": "stream",
          "name": "stdout",
          "text": [
            "/usr/local/lib/python3.11/dist-packages/gdown/__main__.py:140: FutureWarning: Option `--id` was deprecated in version 4.3.1 and will be removed in 5.0. You don't need to pass it anymore to use a file ID.\n",
            "  warnings.warn(\n",
            "Downloading...\n",
            "From: https://drive.google.com/uc?id=1WcTuLEkICVg2A9j98EZWuSgjUhO8AIRI\n",
            "To: /content/trained_model.joblib\n",
            "100% 214k/214k [00:00<00:00, 86.2MB/s]\n"
          ]
        }
      ]
    },
    {
      "cell_type": "code",
      "source": [
        "!gdown --id 1gYWtwKDpJK0_uBOJvvwkXK8Hy8w8mL0p"
      ],
      "metadata": {
        "colab": {
          "base_uri": "https://localhost:8080/"
        },
        "id": "SWNpnkAJc0PU",
        "outputId": "301c03a1-6b5e-4c11-d3da-53a3e9932116"
      },
      "execution_count": 4,
      "outputs": [
        {
          "output_type": "stream",
          "name": "stdout",
          "text": [
            "/usr/local/lib/python3.11/dist-packages/gdown/__main__.py:140: FutureWarning: Option `--id` was deprecated in version 4.3.1 and will be removed in 5.0. You don't need to pass it anymore to use a file ID.\n",
            "  warnings.warn(\n",
            "Downloading...\n",
            "From (original): https://drive.google.com/uc?id=1gYWtwKDpJK0_uBOJvvwkXK8Hy8w8mL0p\n",
            "From (redirected): https://drive.google.com/uc?id=1gYWtwKDpJK0_uBOJvvwkXK8Hy8w8mL0p&confirm=t&uuid=daa2efa0-0d2c-44c6-aebc-659501a97ccd\n",
            "To: /content/denue_total_est_per_ocu_final_5.duckdb\n",
            "100% 3.11G/3.11G [00:37<00:00, 82.2MB/s]\n"
          ]
        }
      ]
    },
    {
      "cell_type": "code",
      "source": [
        "!gdown --id 1LVPNaUxto31HE-UQIO1-4l6XPER9Ry5l"
      ],
      "metadata": {
        "colab": {
          "base_uri": "https://localhost:8080/"
        },
        "id": "ywKYrzZ2c0Uj",
        "outputId": "5932f954-a663-44c4-8b68-f347d11021b7"
      },
      "execution_count": 5,
      "outputs": [
        {
          "output_type": "stream",
          "name": "stdout",
          "text": [
            "/usr/local/lib/python3.11/dist-packages/gdown/__main__.py:140: FutureWarning: Option `--id` was deprecated in version 4.3.1 and will be removed in 5.0. You don't need to pass it anymore to use a file ID.\n",
            "  warnings.warn(\n",
            "Downloading...\n",
            "From (original): https://drive.google.com/uc?id=1LVPNaUxto31HE-UQIO1-4l6XPER9Ry5l\n",
            "From (redirected): https://drive.google.com/uc?id=1LVPNaUxto31HE-UQIO1-4l6XPER9Ry5l&confirm=t&uuid=2adc88e3-778e-4305-ac4a-853a615c9771\n",
            "To: /content/datos_censo_nacional_s9.duckdb\n",
            "100% 1.03G/1.03G [00:13<00:00, 75.5MB/s]\n"
          ]
        }
      ]
    },
    {
      "cell_type": "code",
      "source": [
        "import duckdb\n",
        "import pandas as pd\n",
        "import geopandas as gpd\n",
        "from shapely import wkb\n",
        "import joblib\n",
        "from typing import Dict\n"
      ],
      "metadata": {
        "id": "Y30Vmix3Z7qT"
      },
      "execution_count": 3,
      "outputs": []
    },
    {
      "cell_type": "code",
      "source": [
        "def cargar_modelo(ruta_modelo: str):\n",
        "    \"\"\"Carga el modelo entrenado desde un archivo.\"\"\"\n",
        "    return joblib.load(ruta_modelo)\n",
        "\n",
        "def extraer_caracteristicas(lat: float, lon: float, denue_db_path: str, censo_db_path: str) -> pd.DataFrame:\n",
        "    conn = duckdb.connect(':memory:')\n",
        "    conn.execute(\"INSTALL spatial; LOAD spatial;\")\n",
        "\n",
        "    # Crear geometría del punto y buffers\n",
        "    conn.execute(f\"\"\"\n",
        "        CREATE TEMP TABLE nuevo_punto AS\n",
        "        SELECT\n",
        "            ST_GeomFromText('POINT({lon} {lat})') AS geometry,\n",
        "            ST_Buffer(ST_GeomFromText('POINT({lon} {lat})'), 0.000898) AS buffer_100,\n",
        "            ST_Buffer(ST_GeomFromText('POINT({lon} {lat})'), 0.00449) AS buffer_500\n",
        "    \"\"\")\n",
        "\n",
        "    # Conectar a bases de datos\n",
        "    conn.execute(f\"ATTACH '{denue_db_path}' AS denue_db\")\n",
        "    conn.execute(f\"ATTACH '{censo_db_path}' AS censo_db\")\n",
        "\n",
        "    # =========================================================================\n",
        "    # 1. Características de DENUE (actividades y personal)\n",
        "    # =========================================================================\n",
        "    act_codes = ['46', '51', '54', '11', '22', '52', '71', '43', '31', '61',\n",
        "                 '23', '55', '93', '53', '81', '33', '48', '32', '56', '49',\n",
        "                 '62', '21', '72']\n",
        "\n",
        "    features = {\n",
        "        'epo_100': 0,\n",
        "        'epo_500': 0,\n",
        "        **{f'act_{code}_100': 0 for code in act_codes},\n",
        "        **{f'act_{code}_500': 0 for code in act_codes},\n",
        "    }\n",
        "\n",
        "    # DENUE - Actividades en buffer 100m\n",
        "    denue_100 = conn.execute(\"\"\"\n",
        "        SELECT d.codigo_act_2c, SUM(d.est_per_ocu) AS total\n",
        "        FROM denue_db.denue_est_per_ocu d\n",
        "        JOIN nuevo_punto n ON ST_Intersects(d.geometry, n.buffer_100)\n",
        "        GROUP BY d.codigo_act_2c\n",
        "    \"\"\").fetchdf()\n",
        "    for _, row in denue_100.iterrows():\n",
        "        code = row['codigo_act_2c']\n",
        "        if code in act_codes:\n",
        "            features[f'act_{code}_100'] = row['total']\n",
        "\n",
        "    # DENUE - Actividades en buffer 500m\n",
        "    denue_500 = conn.execute(\"\"\"\n",
        "        SELECT d.codigo_act_2c, SUM(d.est_per_ocu) AS total\n",
        "        FROM denue_db.denue_est_per_ocu d\n",
        "        JOIN nuevo_punto n ON ST_Intersects(d.geometry, n.buffer_500)\n",
        "        GROUP BY d.codigo_act_2c\n",
        "    \"\"\").fetchdf()\n",
        "    for _, row in denue_500.iterrows():\n",
        "        code = row['codigo_act_2c']\n",
        "        if code in act_codes:\n",
        "            features[f'act_{code}_500'] = row['total']\n",
        "\n",
        "    # DENUE - Personal ocupado total\n",
        "    features['epo_100'] = conn.execute(\"\"\"\n",
        "        SELECT COALESCE(SUM(d.est_per_ocu), 0)\n",
        "        FROM denue_db.denue_est_per_ocu d\n",
        "        JOIN nuevo_punto n ON ST_Intersects(d.geometry, n.buffer_100)\n",
        "    \"\"\").fetchone()[0]\n",
        "\n",
        "    features['epo_500'] = conn.execute(\"\"\"\n",
        "        SELECT COALESCE(SUM(d.est_per_ocu), 0)\n",
        "        FROM denue_db.denue_est_per_ocu d\n",
        "        JOIN nuevo_punto n ON ST_Intersects(d.geometry, n.buffer_500)\n",
        "    \"\"\").fetchone()[0]\n",
        "\n",
        "    # =========================================================================\n",
        "    # 2. Características del Censo\n",
        "    # =========================================================================\n",
        "    # Obtener todas las variables del censo usadas en el entrenamiento\n",
        "    variables_censo = [\n",
        "        'POBTOT', 'POBFEM', 'POBMAS', 'P_0A2', 'P_0A2_F', 'P_0A2_M',\n",
        "        'P_3YMAS', 'P_3YMAS_F', 'P_3YMAS_M', 'P_5YMAS', 'P_5YMAS_F',\n",
        "        'P_5YMAS_M', 'P_12YMAS', 'P_12YMAS_F', 'P_12YMAS_M', 'P_15YMAS',\n",
        "        'P_15YMAS_F', 'P_15YMAS_M', 'P_18YMAS', 'P_18YMAS_F', 'P_18YMAS_M',\n",
        "        'P_3A5', 'P_3A5_F', 'P_3A5_M', 'P_6A11', 'P_6A11_F', 'P_6A11_M',\n",
        "        'P_8A14', 'P_8A14_F', 'P_8A14_M', 'P_12A14', 'P_12A14_F',\n",
        "        'P_12A14_M', 'P_15A17', 'P_15A17_F', 'P_15A17_M', 'P_18A24',\n",
        "        'P_18A24_F', 'P_18A24_M', 'P_15A49_F', 'P_60YMAS', 'P_60YMAS_F',\n",
        "        'P_60YMAS_M', 'REL_H_M', 'POB0_14', 'POB15_64', 'POB65_MAS',\n",
        "        'PROM_HNV', 'PNACENT', 'PNACENT_F', 'PNACENT_M', 'PNACOE', 'PNACOE_F',\n",
        "        'PNACOE_M', 'PRES2015', 'PRES2015_F', 'PRES2015_M', 'PRESOE15',\n",
        "        'PRESOE15_F', 'PRESOE15_M', 'P3YM_HLI', 'P3YM_HLI_F', 'P3YM_HLI_M',\n",
        "        'P3HLINHE', 'P3HLINHE_F', 'P3HLINHE_M', 'P3HLI_HE', 'P3HLI_HE_F',\n",
        "        'P3HLI_HE_M', 'P5_HLI', 'P5_HLI_NHE', 'P5_HLI_HE', 'PHOG_IND',\n",
        "        'POB_AFRO', 'POB_AFRO_F', 'POB_AFRO_M', 'PCON_DISC', 'PCDISC_MOT',\n",
        "        'PCDISC_VIS', 'PCDISC_LENG', 'PCDISC_AUD', 'PCDISC_MOT2', 'PCDISC_MEN',\n",
        "        'PCON_LIMI', 'PCLIM_CSB', 'PCLIM_VIS', 'PCLIM_HACO', 'PCLIM_OAUD',\n",
        "        'PCLIM_MOT2', 'PCLIM_RE_CO', 'PCLIM_PMEN', 'PSIND_LIM', 'P3A5_NOA',\n",
        "        'P3A5_NOA_F', 'P3A5_NOA_M', 'P6A11_NOA', 'P6A11_NOAF', 'P6A11_NOAM',\n",
        "        'P12A14NOA', 'P12A14NOAF', 'P12A14NOAM', 'P15A17A', 'P15A17A_F',\n",
        "        'P15A17A_M', 'P18A24A', 'P18A24A_F', 'P18A24A_M', 'P8A14AN',\n",
        "        'P8A14AN_F', 'P8A14AN_M', 'P15YM_AN', 'P15YM_AN_F', 'P15YM_AN_M',\n",
        "        'P15YM_SE', 'P15YM_SE_F', 'P15YM_SE_M', 'P15PRI_IN', 'P15PRI_INF',\n",
        "        'P15PRI_INM', 'P15PRI_CO', 'P15PRI_COF', 'P15PRI_COM', 'P15SEC_IN',\n",
        "        'P15SEC_INF', 'P15SEC_INM', 'P15SEC_CO', 'P15SEC_COF', 'P15SEC_COM',\n",
        "        'P18YM_PB', 'P18YM_PB_F', 'P18YM_PB_M', 'GRAPROES', 'GRAPROES_F',\n",
        "        'GRAPROES_M', 'PEA', 'PEA_F', 'PEA_M', 'PE_INAC', 'PE_INAC_F',\n",
        "        'PE_INAC_M', 'POCUPADA', 'POCUPADA_F', 'POCUPADA_M', 'PDESOCUP',\n",
        "        'PDESOCUP_F', 'PDESOCUP_M', 'PSINDER', 'PDER_SS', 'PDER_IMSS',\n",
        "        'PDER_ISTE', 'PDER_ISTEE', 'PAFIL_PDOM', 'PDER_SEGP', 'PDER_IMSSB',\n",
        "        'PAFIL_IPRIV', 'PAFIL_OTRAI', 'P12YM_SOLT', 'P12YM_CASA', 'P12YM_SEPA',\n",
        "        'PCATOLICA', 'PRO_CRIEVA', 'POTRAS_REL', 'PSIN_RELIG', 'TOTHOG',\n",
        "        'HOGJEF_F', 'HOGJEF_M', 'POBHOG', 'PHOGJEF_F', 'PHOGJEF_M', 'VIVTOT',\n",
        "        'TVIVHAB', 'TVIVPAR', 'VIVPAR_HAB', 'VIVPARH_CV', 'TVIVPARHAB',\n",
        "        'VIVPAR_DES', 'VIVPAR_UT', 'OCUPVIVPAR', 'PROM_OCUP', 'PRO_OCUP_C',\n",
        "        'VPH_PISODT', 'VPH_PISOTI', 'VPH_1DOR', 'VPH_2YMASD', 'VPH_1CUART',\n",
        "        'VPH_2CUART', 'VPH_3YMASC', 'VPH_C_ELEC', 'VPH_S_ELEC', 'VPH_AGUADV',\n",
        "        'VPH_AEASP', 'VPH_AGUAFV', 'VPH_TINACO', 'VPH_CISTER', 'VPH_EXCSA',\n",
        "        'VPH_LETR', 'VPH_DRENAJ', 'VPH_NODREN', 'VPH_C_SERV', 'VPH_NDEAED',\n",
        "        'VPH_DSADMA', 'VPH_NDACMM', 'VPH_SNBIEN', 'VPH_REFRI', 'VPH_LAVAD',\n",
        "        'VPH_HMICRO', 'VPH_AUTOM', 'VPH_MOTO', 'VPH_BICI', 'VPH_RADIO', 'VPH_TV',\n",
        "        'VPH_PC', 'VPH_TELEF', 'VPH_CEL', 'VPH_INTER', 'VPH_STVP', 'VPH_SPMVPI',\n",
        "        'VPH_CVJ', 'VPH_SINRTV', 'VPH_SINLTC', 'VPH_SINCINT', 'VPH_SINTIC'\n",
        "    ]\n",
        "\n",
        "    # Agregar variables del censo para buffer 100m\n",
        "    censo_100 = conn.execute(f\"\"\"\n",
        "        SELECT {', '.join([f'COALESCE(SUM({var}), 0) AS {var}_100' for var in variables_censo])}\n",
        "        FROM denue_db.censo_geo_int_centroid c\n",
        "        JOIN nuevo_punto n ON ST_Intersects(c.geometry, n.buffer_100)\n",
        "    \"\"\").fetchone()\n",
        "\n",
        "    # Agregar variables del censo para buffer 500m\n",
        "    censo_500 = conn.execute(f\"\"\"\n",
        "        SELECT {', '.join([f'COALESCE(SUM({var}), 0) AS {var}_500' for var in variables_censo])}\n",
        "        FROM denue_db.censo_geo_int_centroid c\n",
        "        JOIN nuevo_punto n ON ST_Intersects(c.geometry, n.buffer_500)\n",
        "    \"\"\").fetchone()\n",
        "\n",
        "    # Combinar todas las features\n",
        "    features.update({\n",
        "        f'censo_{var}_100': censo_100[i] for i, var in enumerate(variables_censo)\n",
        "    })\n",
        "    features.update({\n",
        "        f'censo_{var}_500': censo_500[i] for i, var in enumerate(variables_censo)\n",
        "    })\n",
        "\n",
        "    # =========================================================================\n",
        "    # 3. Asegurar el orden correcto de las columnas\n",
        "    # =========================================================================\n",
        "    # Obtener nombres de features del modelo entrenado\n",
        "    modelo = joblib.load('trained_model.joblib')\n",
        "    expected_features = modelo.feature_names_in_\n",
        "\n",
        "    # Crear DataFrame con todas las columnas esperadas\n",
        "    df = pd.DataFrame([features])\n",
        "\n",
        "    # Añadir columnas faltantes con 0\n",
        "    for col in expected_features:\n",
        "        if col not in df.columns:\n",
        "            df[col] = 0\n",
        "\n",
        "    # Reordenar columnas como el modelo espera\n",
        "    df = df[expected_features]\n",
        "\n",
        "    conn.close()\n",
        "    return df\n",
        "\n",
        "def predecir_probabilidad(lat: float, lon: float, ruta_modelo: str,\n",
        "                          denue_db_path: str, censo_db_path: str) -> Dict[int, float]:\n",
        "    \"\"\"\n",
        "    Predice la probabilidad de que el punto sea OXXO (1) o Tienda de Abarrotes (0).\n",
        "    \"\"\"\n",
        "    modelo = cargar_modelo(ruta_modelo)\n",
        "    features = extraer_caracteristicas(lat, lon, denue_db_path, censo_db_path)\n",
        "    proba = modelo.predict_proba(features)[0]\n",
        "    return {1: proba[1], 0: proba[0]}"
      ],
      "metadata": {
        "id": "Fy0KPXDUaXyR"
      },
      "execution_count": 22,
      "outputs": []
    },
    {
      "cell_type": "code",
      "source": [
        "lat=19.4326\n",
        "lon=-99.1332"
      ],
      "metadata": {
        "id": "KMl6osUfhPnH"
      },
      "execution_count": 29,
      "outputs": []
    },
    {
      "cell_type": "code",
      "source": [
        "denue_db_path='/content/denue_total_est_per_ocu_final_5.duckdb'\n",
        "censo_db_path='/content/datos_censo_nacional_s9.duckdb'\n",
        "probabilidades = predecir_probabilidad(\n",
        "    lat=lat,\n",
        "    lon=lon,\n",
        "    ruta_modelo='trained_model.joblib',\n",
        "    denue_db_path=denue_db_path,\n",
        "    censo_db_path=censo_db_path\n",
        ")\n",
        "print(f\"Probabilidad OXXO (1): {probabilidades[1]:.2f}\")\n",
        "print(f\"Probabilidad Tienda (0): {probabilidades[0]:.2f}\")"
      ],
      "metadata": {
        "colab": {
          "base_uri": "https://localhost:8080/"
        },
        "id": "fw_0y_1TdY_V",
        "outputId": "e3c8985e-3d25-4261-b3cc-45ff7c58119e"
      },
      "execution_count": 30,
      "outputs": [
        {
          "output_type": "stream",
          "name": "stdout",
          "text": [
            "Probabilidad OXXO (1): 0.90\n",
            "Probabilidad Tienda (0): 0.10\n"
          ]
        }
      ]
    },
    {
      "cell_type": "code",
      "source": [],
      "metadata": {
        "id": "dfWgvb4Agjqu"
      },
      "execution_count": 27,
      "outputs": []
    },
    {
      "cell_type": "code",
      "source": [
        "caracteristicas = extraer_caracteristicas(lat, lon, denue_db_path, censo_db_path)"
      ],
      "metadata": {
        "id": "8C4VxwSkdh2j"
      },
      "execution_count": 31,
      "outputs": []
    },
    {
      "cell_type": "code",
      "source": [
        "caracteristicas"
      ],
      "metadata": {
        "colab": {
          "base_uri": "https://localhost:8080/",
          "height": 130
        },
        "id": "e5QiGIG5f7X7",
        "outputId": "bbfac577-40ce-4b28-9bea-3e40ae7acef5"
      },
      "execution_count": 32,
      "outputs": [
        {
          "output_type": "execute_result",
          "data": {
            "text/plain": [
              "  epo_100  epo_500  act_51_100  act_54_100  act_11_100  act_22_100  \\\n",
              "0   184.0  33546.0         2.5           0           0           0   \n",
              "\n",
              "   act_52_100  act_71_100  act_43_100  act_31_100  ...  censo_VPH_TELEF_500  \\\n",
              "0         7.5         2.5         2.5           0  ...                  330   \n",
              "\n",
              "   censo_VPH_CEL_500  censo_VPH_INTER_500  censo_VPH_STVP_500  \\\n",
              "0                494                  374                 117   \n",
              "\n",
              "   censo_VPH_SPMVPI_500  censo_VPH_CVJ_500  censo_VPH_SINRTV_500  \\\n",
              "0                   144                 60                     3   \n",
              "\n",
              "   censo_VPH_SINLTC_500  censo_VPH_SINCINT_500  censo_VPH_SINTIC_500  \n",
              "0                     5                    129                     0  \n",
              "\n",
              "[1 rows x 492 columns]"
            ],
            "text/html": [
              "\n",
              "  <div id=\"df-0cd324b3-49f5-4fb0-9b30-d4df04394586\" class=\"colab-df-container\">\n",
              "    <div>\n",
              "<style scoped>\n",
              "    .dataframe tbody tr th:only-of-type {\n",
              "        vertical-align: middle;\n",
              "    }\n",
              "\n",
              "    .dataframe tbody tr th {\n",
              "        vertical-align: top;\n",
              "    }\n",
              "\n",
              "    .dataframe thead th {\n",
              "        text-align: right;\n",
              "    }\n",
              "</style>\n",
              "<table border=\"1\" class=\"dataframe\">\n",
              "  <thead>\n",
              "    <tr style=\"text-align: right;\">\n",
              "      <th></th>\n",
              "      <th>epo_100</th>\n",
              "      <th>epo_500</th>\n",
              "      <th>act_51_100</th>\n",
              "      <th>act_54_100</th>\n",
              "      <th>act_11_100</th>\n",
              "      <th>act_22_100</th>\n",
              "      <th>act_52_100</th>\n",
              "      <th>act_71_100</th>\n",
              "      <th>act_43_100</th>\n",
              "      <th>act_31_100</th>\n",
              "      <th>...</th>\n",
              "      <th>censo_VPH_TELEF_500</th>\n",
              "      <th>censo_VPH_CEL_500</th>\n",
              "      <th>censo_VPH_INTER_500</th>\n",
              "      <th>censo_VPH_STVP_500</th>\n",
              "      <th>censo_VPH_SPMVPI_500</th>\n",
              "      <th>censo_VPH_CVJ_500</th>\n",
              "      <th>censo_VPH_SINRTV_500</th>\n",
              "      <th>censo_VPH_SINLTC_500</th>\n",
              "      <th>censo_VPH_SINCINT_500</th>\n",
              "      <th>censo_VPH_SINTIC_500</th>\n",
              "    </tr>\n",
              "  </thead>\n",
              "  <tbody>\n",
              "    <tr>\n",
              "      <th>0</th>\n",
              "      <td>184.0</td>\n",
              "      <td>33546.0</td>\n",
              "      <td>2.5</td>\n",
              "      <td>0</td>\n",
              "      <td>0</td>\n",
              "      <td>0</td>\n",
              "      <td>7.5</td>\n",
              "      <td>2.5</td>\n",
              "      <td>2.5</td>\n",
              "      <td>0</td>\n",
              "      <td>...</td>\n",
              "      <td>330</td>\n",
              "      <td>494</td>\n",
              "      <td>374</td>\n",
              "      <td>117</td>\n",
              "      <td>144</td>\n",
              "      <td>60</td>\n",
              "      <td>3</td>\n",
              "      <td>5</td>\n",
              "      <td>129</td>\n",
              "      <td>0</td>\n",
              "    </tr>\n",
              "  </tbody>\n",
              "</table>\n",
              "<p>1 rows × 492 columns</p>\n",
              "</div>\n",
              "    <div class=\"colab-df-buttons\">\n",
              "\n",
              "  <div class=\"colab-df-container\">\n",
              "    <button class=\"colab-df-convert\" onclick=\"convertToInteractive('df-0cd324b3-49f5-4fb0-9b30-d4df04394586')\"\n",
              "            title=\"Convert this dataframe to an interactive table.\"\n",
              "            style=\"display:none;\">\n",
              "\n",
              "  <svg xmlns=\"http://www.w3.org/2000/svg\" height=\"24px\" viewBox=\"0 -960 960 960\">\n",
              "    <path d=\"M120-120v-720h720v720H120Zm60-500h600v-160H180v160Zm220 220h160v-160H400v160Zm0 220h160v-160H400v160ZM180-400h160v-160H180v160Zm440 0h160v-160H620v160ZM180-180h160v-160H180v160Zm440 0h160v-160H620v160Z\"/>\n",
              "  </svg>\n",
              "    </button>\n",
              "\n",
              "  <style>\n",
              "    .colab-df-container {\n",
              "      display:flex;\n",
              "      gap: 12px;\n",
              "    }\n",
              "\n",
              "    .colab-df-convert {\n",
              "      background-color: #E8F0FE;\n",
              "      border: none;\n",
              "      border-radius: 50%;\n",
              "      cursor: pointer;\n",
              "      display: none;\n",
              "      fill: #1967D2;\n",
              "      height: 32px;\n",
              "      padding: 0 0 0 0;\n",
              "      width: 32px;\n",
              "    }\n",
              "\n",
              "    .colab-df-convert:hover {\n",
              "      background-color: #E2EBFA;\n",
              "      box-shadow: 0px 1px 2px rgba(60, 64, 67, 0.3), 0px 1px 3px 1px rgba(60, 64, 67, 0.15);\n",
              "      fill: #174EA6;\n",
              "    }\n",
              "\n",
              "    .colab-df-buttons div {\n",
              "      margin-bottom: 4px;\n",
              "    }\n",
              "\n",
              "    [theme=dark] .colab-df-convert {\n",
              "      background-color: #3B4455;\n",
              "      fill: #D2E3FC;\n",
              "    }\n",
              "\n",
              "    [theme=dark] .colab-df-convert:hover {\n",
              "      background-color: #434B5C;\n",
              "      box-shadow: 0px 1px 3px 1px rgba(0, 0, 0, 0.15);\n",
              "      filter: drop-shadow(0px 1px 2px rgba(0, 0, 0, 0.3));\n",
              "      fill: #FFFFFF;\n",
              "    }\n",
              "  </style>\n",
              "\n",
              "    <script>\n",
              "      const buttonEl =\n",
              "        document.querySelector('#df-0cd324b3-49f5-4fb0-9b30-d4df04394586 button.colab-df-convert');\n",
              "      buttonEl.style.display =\n",
              "        google.colab.kernel.accessAllowed ? 'block' : 'none';\n",
              "\n",
              "      async function convertToInteractive(key) {\n",
              "        const element = document.querySelector('#df-0cd324b3-49f5-4fb0-9b30-d4df04394586');\n",
              "        const dataTable =\n",
              "          await google.colab.kernel.invokeFunction('convertToInteractive',\n",
              "                                                    [key], {});\n",
              "        if (!dataTable) return;\n",
              "\n",
              "        const docLinkHtml = 'Like what you see? Visit the ' +\n",
              "          '<a target=\"_blank\" href=https://colab.research.google.com/notebooks/data_table.ipynb>data table notebook</a>'\n",
              "          + ' to learn more about interactive tables.';\n",
              "        element.innerHTML = '';\n",
              "        dataTable['output_type'] = 'display_data';\n",
              "        await google.colab.output.renderOutput(dataTable, element);\n",
              "        const docLink = document.createElement('div');\n",
              "        docLink.innerHTML = docLinkHtml;\n",
              "        element.appendChild(docLink);\n",
              "      }\n",
              "    </script>\n",
              "  </div>\n",
              "\n",
              "\n",
              "  <div id=\"id_cd4984d0-ce91-4344-95d6-3757998d99f8\">\n",
              "    <style>\n",
              "      .colab-df-generate {\n",
              "        background-color: #E8F0FE;\n",
              "        border: none;\n",
              "        border-radius: 50%;\n",
              "        cursor: pointer;\n",
              "        display: none;\n",
              "        fill: #1967D2;\n",
              "        height: 32px;\n",
              "        padding: 0 0 0 0;\n",
              "        width: 32px;\n",
              "      }\n",
              "\n",
              "      .colab-df-generate:hover {\n",
              "        background-color: #E2EBFA;\n",
              "        box-shadow: 0px 1px 2px rgba(60, 64, 67, 0.3), 0px 1px 3px 1px rgba(60, 64, 67, 0.15);\n",
              "        fill: #174EA6;\n",
              "      }\n",
              "\n",
              "      [theme=dark] .colab-df-generate {\n",
              "        background-color: #3B4455;\n",
              "        fill: #D2E3FC;\n",
              "      }\n",
              "\n",
              "      [theme=dark] .colab-df-generate:hover {\n",
              "        background-color: #434B5C;\n",
              "        box-shadow: 0px 1px 3px 1px rgba(0, 0, 0, 0.15);\n",
              "        filter: drop-shadow(0px 1px 2px rgba(0, 0, 0, 0.3));\n",
              "        fill: #FFFFFF;\n",
              "      }\n",
              "    </style>\n",
              "    <button class=\"colab-df-generate\" onclick=\"generateWithVariable('caracteristicas')\"\n",
              "            title=\"Generate code using this dataframe.\"\n",
              "            style=\"display:none;\">\n",
              "\n",
              "  <svg xmlns=\"http://www.w3.org/2000/svg\" height=\"24px\"viewBox=\"0 0 24 24\"\n",
              "       width=\"24px\">\n",
              "    <path d=\"M7,19H8.4L18.45,9,17,7.55,7,17.6ZM5,21V16.75L18.45,3.32a2,2,0,0,1,2.83,0l1.4,1.43a1.91,1.91,0,0,1,.58,1.4,1.91,1.91,0,0,1-.58,1.4L9.25,21ZM18.45,9,17,7.55Zm-12,3A5.31,5.31,0,0,0,4.9,8.1,5.31,5.31,0,0,0,1,6.5,5.31,5.31,0,0,0,4.9,4.9,5.31,5.31,0,0,0,6.5,1,5.31,5.31,0,0,0,8.1,4.9,5.31,5.31,0,0,0,12,6.5,5.46,5.46,0,0,0,6.5,12Z\"/>\n",
              "  </svg>\n",
              "    </button>\n",
              "    <script>\n",
              "      (() => {\n",
              "      const buttonEl =\n",
              "        document.querySelector('#id_cd4984d0-ce91-4344-95d6-3757998d99f8 button.colab-df-generate');\n",
              "      buttonEl.style.display =\n",
              "        google.colab.kernel.accessAllowed ? 'block' : 'none';\n",
              "\n",
              "      buttonEl.onclick = () => {\n",
              "        google.colab.notebook.generateWithVariable('caracteristicas');\n",
              "      }\n",
              "      })();\n",
              "    </script>\n",
              "  </div>\n",
              "\n",
              "    </div>\n",
              "  </div>\n"
            ],
            "application/vnd.google.colaboratory.intrinsic+json": {
              "type": "dataframe",
              "variable_name": "caracteristicas"
            }
          },
          "metadata": {},
          "execution_count": 32
        }
      ]
    },
    {
      "cell_type": "code",
      "source": [
        "lat=21.893526864761085\n",
        "lon=-102.2406108654755"
      ],
      "metadata": {
        "id": "3o2MkmyvhZU2"
      },
      "execution_count": 33,
      "outputs": []
    },
    {
      "cell_type": "code",
      "source": [
        "probabilidades = predecir_probabilidad(\n",
        "    lat=lat,\n",
        "    lon=lon,\n",
        "    ruta_modelo='trained_model.joblib',\n",
        "    denue_db_path=denue_db_path,\n",
        "    censo_db_path=censo_db_path\n",
        ")\n",
        "print(f\"Probabilidad OXXO (1): {probabilidades[1]:.2f}\")\n",
        "print(f\"Probabilidad Tienda (0): {probabilidades[0]:.2f}\")"
      ],
      "metadata": {
        "colab": {
          "base_uri": "https://localhost:8080/",
          "height": 84,
          "referenced_widgets": [
            "1853c1c7000341afb04399f7e69d5150",
            "cd347f61c1ea42c3ae3eee8b700d2142",
            "dd024b92a7bf41c6af518b11fb8fa48e"
          ]
        },
        "id": "SCrMkdzgjSK1",
        "outputId": "4193d107-9d8f-4ae2-e796-35844d612b41"
      },
      "execution_count": 34,
      "outputs": [
        {
          "output_type": "display_data",
          "data": {
            "text/plain": [
              "FloatProgress(value=0.0, layout=Layout(width='auto'), style=ProgressStyle(bar_color='black'))"
            ],
            "application/vnd.jupyter.widget-view+json": {
              "version_major": 2,
              "version_minor": 0,
              "model_id": "1853c1c7000341afb04399f7e69d5150"
            }
          },
          "metadata": {}
        },
        {
          "output_type": "stream",
          "name": "stdout",
          "text": [
            "Probabilidad OXXO (1): 0.25\n",
            "Probabilidad Tienda (0): 0.75\n"
          ]
        }
      ]
    },
    {
      "cell_type": "code",
      "source": [],
      "metadata": {
        "id": "khrw-kBxjUW2"
      },
      "execution_count": null,
      "outputs": []
    }
  ]
}