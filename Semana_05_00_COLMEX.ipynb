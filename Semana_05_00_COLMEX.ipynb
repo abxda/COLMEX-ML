{
  "nbformat": 4,
  "nbformat_minor": 0,
  "metadata": {
    "colab": {
      "provenance": [],
      "authorship_tag": "ABX9TyMM8L9djhSZmGRsc5sab2T9",
      "include_colab_link": true
    },
    "kernelspec": {
      "name": "python3",
      "display_name": "Python 3"
    },
    "language_info": {
      "name": "python"
    }
  },
  "cells": [
    {
      "cell_type": "markdown",
      "metadata": {
        "id": "view-in-github",
        "colab_type": "text"
      },
      "source": [
        "<a href=\"https://colab.research.google.com/github/abxda/COLMEX-ML/blob/main/Semana_05_00_COLMEX.ipynb\" target=\"_parent\"><img src=\"https://colab.research.google.com/assets/colab-badge.svg\" alt=\"Open In Colab\"/></a>"
      ]
    },
    {
      "cell_type": "markdown",
      "source": [
        "# 📚 Tutorial Interactivo de K-means: Entiende y Visualiza el Algoritmo\n",
        "\n",
        "En este tutorial aprenderás de forma interactiva cómo K-means agrupa datos y encuentra centroides utilizando Python en Google Colab.\n",
        "\n",
        "**Objetivos:**\n",
        "- Comprender el proceso iterativo de asignación y actualización de centroides.\n",
        "- Visualizar la formación de clusters en datos sintéticos y reales.\n",
        "- Explorar el \"Método del Codo\" para elegir el número óptimo de clusters."
      ],
      "metadata": {
        "id": "Lr77QVVNtEWB"
      }
    },
    {
      "cell_type": "markdown",
      "source": [
        "## 🔰 Paso 1: Configurar el Entorno\n",
        "Importamos las librerías esenciales para el análisis numérico y la visualización."
      ],
      "metadata": {
        "id": "OfV7-37gtKAy"
      }
    },
    {
      "cell_type": "code",
      "source": [
        "!pip install scikit-learn --quiet\n",
        "import numpy as np\n",
        "import matplotlib.pyplot as plt\n",
        "from sklearn.cluster import KMeans\n",
        "from sklearn.datasets import make_blobs, load_iris\n",
        "plt.style.use('ggplot')"
      ],
      "metadata": {
        "id": "ETf-LWPLs4Ur"
      },
      "execution_count": null,
      "outputs": []
    },
    {
      "cell_type": "markdown",
      "source": [
        "## 🎨 Paso 2: Crear Datos de Prueba\n",
        "Generamos datos sintéticos con 300 puntos distribuidos en 3 grupos (clusters).\n",
        "Ajusta `cluster_std` para modificar la dispersión de los puntos.\n"
      ],
      "metadata": {
        "id": "1WCJIhNDtnGR"
      }
    },
    {
      "cell_type": "code",
      "source": [
        "X, _ = make_blobs(\n",
        "    n_samples=300,      # 300 puntos\n",
        "    centers=3,          # 3 clusters\n",
        "    cluster_std=0.8,    # Desviación estándar de cada cluster\n",
        "    random_state=10     # Semilla para reproducibilidad\n",
        ")"
      ],
      "metadata": {
        "id": "_9_fQW1HtOa5"
      },
      "execution_count": null,
      "outputs": []
    },
    {
      "cell_type": "code",
      "source": [
        "# Visualizamos los datos originales:\n",
        "plt.figure(figsize=(8,6))\n",
        "plt.scatter(X[:, 0], X[:, 1], s=50, color='skyblue')\n",
        "plt.title(\"Datos Originales\")\n",
        "plt.xlabel(\"Característica 1\")\n",
        "plt.ylabel(\"Característica 2\")\n",
        "plt.show()"
      ],
      "metadata": {
        "id": "TzoygzakttRI"
      },
      "execution_count": null,
      "outputs": []
    },
    {
      "cell_type": "markdown",
      "source": [
        "## 🤖 Paso 3: Aplicar K-means\n",
        "Configuramos y entrenamos el modelo K-means con 3 clusters.\n",
        "Parámetros clave:\n",
        "- **init='random'**: Inicialización aleatoria de los centroides.\n",
        "- **n_init=10**: Se realizan 10 ejecuciones para elegir la mejor solución.\n",
        "- **max_iter=300**: Máximo número de iteraciones por ejecución.\n"
      ],
      "metadata": {
        "id": "ujGEdg5kuBK6"
      }
    },
    {
      "cell_type": "code",
      "source": [
        "kmeans = KMeans(\n",
        "    n_clusters=3,\n",
        "    init='random',\n",
        "    n_init=10,\n",
        "    max_iter=300,\n",
        "    random_state=42\n",
        ")\n",
        "kmeans.fit(X)"
      ],
      "metadata": {
        "id": "gonrZLMHt8Mx"
      },
      "execution_count": null,
      "outputs": []
    },
    {
      "cell_type": "markdown",
      "source": [
        "## 🔍 Paso 4: Visualizar los Resultados\n",
        "Mostramos cómo K-means ha agrupado los datos y la ubicación final de los centroides.\n"
      ],
      "metadata": {
        "id": "P9YTxWJMuLyh"
      }
    },
    {
      "cell_type": "code",
      "source": [
        "plt.figure(figsize=(8,6))\n",
        "\n",
        "# Definimos colores para distinguir los clusters:\n",
        "colores = ['#FF6B6B', '#4ECDC4', '#45B7D1']\n",
        "etiquetas = kmeans.labels_\n",
        "\n",
        "# Graficamos cada cluster:\n",
        "for i in range(3):\n",
        "    plt.scatter(\n",
        "        X[etiquetas == i, 0],\n",
        "        X[etiquetas == i, 1],\n",
        "        s=50,\n",
        "        color=colores[i],\n",
        "        label=f'Cluster {i+1}'\n",
        "    )\n",
        "\n",
        "# Graficamos los centroides con una estrella dorada:\n",
        "plt.scatter(\n",
        "    kmeans.cluster_centers_[:, 0],\n",
        "    kmeans.cluster_centers_[:, 1],\n",
        "    s=200,\n",
        "    marker='*',\n",
        "    color='gold',\n",
        "    edgecolor='black',\n",
        "    linewidth=1,\n",
        "    label='Centroides'\n",
        ")\n",
        "\n",
        "plt.title(\"🔍 Resultado del Clustering\")\n",
        "plt.xlabel(\"Característica 1\")\n",
        "plt.ylabel(\"Característica 2\")\n",
        "plt.legend()\n",
        "plt.show()"
      ],
      "metadata": {
        "id": "gb_hmvliuIJp"
      },
      "execution_count": null,
      "outputs": []
    },
    {
      "cell_type": "markdown",
      "source": [
        "## 🔄 Paso 5: Evolución de los Centroides\n",
        "Visualizamos cómo se mueven los centroides a lo largo de las iteraciones.\n",
        "Esta función muestra el estado del clustering tras 1, 2 y 3 iteraciones.\n",
        "\n",
        "A grandes rasgos, el algoritmo K-means sigue este flujo:\n",
        "\n",
        "1. **Inicialización Aleatoria de Centroides**  \n",
        "   - Se eligen aleatoriamente $k$ posiciones en el espacio de los datos para ubicar los centroides iniciales.  \n",
        "   - Estos centroides representan el “centro” temporal de cada uno de los $k$ grupos (clusters) que queremos encontrar.\n",
        "\n",
        "2. **Asignación de Puntos**  \n",
        "   - En cada iteración, cada dato se asigna al grupo cuyo centroide esté más cerca.  \n",
        "   - En la práctica, esto se hace calculando la distancia (generalmente Euclidiana) entre el punto y cada centroide, y luego seleccionando el mínimo.\n",
        "\n",
        "3. **Actualización de Centroides**  \n",
        "   - Para cada grupo, se recalcula la posición del centroide como el promedio (media) de todos los puntos que han sido asignados a ese grupo.  \n",
        "\n",
        "4. **Iteración y Convergencia**  \n",
        "   - Con las nuevas posiciones de los centroides, se repite el proceso de asignación y actualización.  \n",
        "   - A medida que avanzan las iteraciones, los centroides “migran” hacia la región donde se concentra la mayor parte de los puntos de cada grupo.  \n",
        "   - Este movimiento se va haciendo más pequeño hasta que los centroides se estabilizan (o se llega al número máximo de iteraciones), indicando que los clusters están bien definidos.\n",
        "\n",
        "---\n",
        "\n",
        "### ¿Por qué converge tan rápido en la práctica?\n",
        "\n",
        "- **Implementaciones Eficientes:**  \n",
        "  Bibliotecas como *scikit-learn* utilizan versiones optimizadas del algoritmo (conocidas como variantes de *Lloyd’s algorithm* o *Elkan’s algorithm*). Estas implementaciones están escritas en C/C++ y aprovechan estructuras de datos eficientes para minimizar los cálculos de distancia, reduciendo el tiempo de ejecución.\n",
        "\n",
        "- **Vectorización y Cálculo en Bloque:**  \n",
        "  Muchas operaciones (como la asignación de puntos a centroides) se realizan en forma vectorizada, usando *NumPy* u otras librerías de álgebra lineal, lo que aprovecha la velocidad de operaciones a nivel de bajo nivel (SIMD, paralelismo, etc.).\n",
        "\n",
        "- **Heurísticas de Inicialización (k-means++):**  \n",
        "  Aunque el ejemplo usa inicialización aleatoria, en la práctica se suele usar *k-means++* para elegir centroides iniciales “inteligentemente”. Esto suele acelerar la convergencia y mejorar la calidad de los clusters.\n",
        "\n",
        "- **Reducción de Cálculos Innecesarios:**  \n",
        "  Algunas implementaciones evitan recalcular distancias para puntos que se sabe que no cambiarán de cluster en la siguiente iteración, acelerando así la convergencia.\n",
        "\n",
        "En conjunto, estos factores hacen que K-means, aun siendo un algoritmo iterativo, **tienda a converger rápidamente** y a encontrar clusters útiles en un número relativamente bajo de pasos."
      ],
      "metadata": {
        "id": "6W1qwdlMuWBR"
      }
    },
    {
      "cell_type": "code",
      "source": [
        "def visualizar_iteraciones(n_iteraciones):\n",
        "    plt.figure(figsize=(15, 4))\n",
        "\n",
        "    for i in range(n_iteraciones):\n",
        "        # Ejecutamos K-means con (i+1) iteraciones\n",
        "        km = KMeans(n_clusters=3, max_iter=i+1, init='random', n_init=1)\n",
        "        km.fit(X)\n",
        "\n",
        "        plt.subplot(1, n_iteraciones, i+1)\n",
        "        plt.scatter(X[:, 0], X[:, 1], c=km.labels_, cmap='viridis', s=30)\n",
        "        plt.scatter(km.cluster_centers_[:, 0], km.cluster_centers_[:, 1],\n",
        "                    marker='X', s=100, c='red')\n",
        "        plt.title(f'Iteración {i+1}')\n",
        "    plt.tight_layout()\n",
        "\n",
        "visualizar_iteraciones(3)\n",
        "plt.show()"
      ],
      "metadata": {
        "id": "d2UPtq4VuRQQ"
      },
      "execution_count": null,
      "outputs": []
    },
    {
      "cell_type": "markdown",
      "source": [
        "## 📉 Paso 6: Método del Codo\n",
        "Utilizamos el método del codo para determinar el número óptimo de clusters.\n",
        "Calculamos la inercia (la suma de las distancias al cuadrado entre cada punto y su centroide) para distintos valores de k.\n"
      ],
      "metadata": {
        "id": "NnkYMG5fyoht"
      }
    },
    {
      "cell_type": "code",
      "source": [
        "inercias = []\n",
        "rang_k = range(1, 10)\n",
        "\n",
        "for k in rang_k:\n",
        "    kmeans = KMeans(n_clusters=k, random_state=42)\n",
        "    kmeans.fit(X)\n",
        "    inercias.append(kmeans.inertia_)\n",
        "\n",
        "plt.figure(figsize=(8,5))\n",
        "plt.plot(rang_k, inercias, 'bo-')\n",
        "plt.xlabel('Número de Clusters (k)')\n",
        "plt.ylabel('Inercia')\n",
        "plt.title('Método del Codo')\n",
        "plt.xticks(rang_k)\n",
        "plt.grid(True)\n",
        "plt.show()"
      ],
      "metadata": {
        "id": "HovvS_YWueUQ"
      },
      "execution_count": null,
      "outputs": []
    },
    {
      "cell_type": "markdown",
      "source": [
        "En el **Método del Codo**, se calcula la *inercia* (o suma de distancias al cuadrado de cada punto a su centroide) para distintos valores de $k$. El objetivo es encontrar un punto en la gráfica donde añadir más clusters deje de reducir significativamente la inercia, es decir, donde la curva “se doble” y la disminución de inercia empiece a ser menos pronunciada.\n",
        "\n",
        "Observando la gráfica adjunta:\n",
        "\n",
        "1. **Drástica caída al principio (de $k=1$ a $k=3$)**  \n",
        "   - Cuando $k$ pasa de 1 a 2 y luego a 3, la inercia baja de forma muy notable. Esto indica que el agrupamiento está mejorando sustancialmente al aumentar el número de clusters en esas primeras etapas.\n",
        "\n",
        "2. **Punto de Inflexión alrededor de $k=3$**  \n",
        "   - Después de $k=3$, la reducción en la inercia es cada vez menor. El salto de inercia entre $k=3$ y $k=4$ es más leve que los saltos anteriores.  \n",
        "   - Ese “doble” o “codo” que se aprecia en la curva alrededor de $k=3$ es la señal de que, a partir de ahí, añadir más clusters ya no aporta una mejora tan significativa en la compactación de los grupos.\n",
        "\n",
        "3. **Interpretación Práctica**  \n",
        "   - Con $k=3$, se logra un buen equilibrio entre complejidad (tener más clusters) y calidad de la agrupación (baja inercia).  \n",
        "   - Si se escogen más clusters (por ejemplo, 4, 5, etc.), la inercia seguirá bajando, pero la ganancia es mucho menor comparada con el salto que obtienes al pasar de 2 a 3.  \n",
        "   - En muchos casos de uso, la elección de un $k\\ más alto puede significar una sobresegmentación de los datos (clusters demasiado pequeños o menos interpretables).\n",
        "\n",
        "4. **Limitaciones**  \n",
        "   - El método del codo es un **criterio heurístico**. No siempre el “codo” está perfectamente definido. Aun así, en la gráfica mostrada, el codo es bastante claro en $k=3$.  \n",
        "   - Se recomienda complementar con otros métodos (como el índice de silhouette) o con un criterio basado en el contexto de los datos para validar la elección de $k$.\n",
        "\n",
        "En resumen, **elegir $k=3$** en este caso se justifica porque la inercia desciende marcadamente hasta ese punto y, a partir de ahí, la mejora adicional es mucho más pequeña. Esto indica que **3 clusters** describen razonablemente bien la estructura de los datos sin añadir complejidad innecesaria."
      ],
      "metadata": {
        "id": "kuuP4RX0zTsr"
      }
    },
    {
      "cell_type": "code",
      "source": [],
      "metadata": {
        "id": "G8J5Eh1fv5RK"
      },
      "execution_count": null,
      "outputs": []
    }
  ]
}