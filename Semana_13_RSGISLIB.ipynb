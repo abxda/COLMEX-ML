{
  "nbformat": 4,
  "nbformat_minor": 0,
  "metadata": {
    "colab": {
      "provenance": [],
      "authorship_tag": "ABX9TyOh0ab4DCS4m1tDLpzca9JH",
      "include_colab_link": true
    },
    "kernelspec": {
      "name": "python3",
      "display_name": "Python 3"
    },
    "language_info": {
      "name": "python"
    }
  },
  "cells": [
    {
      "cell_type": "markdown",
      "metadata": {
        "id": "view-in-github",
        "colab_type": "text"
      },
      "source": [
        "<a href=\"https://colab.research.google.com/github/abxda/COLMEX-ML/blob/main/Semana_13_RSGISLIB.ipynb\" target=\"_parent\"><img src=\"https://colab.research.google.com/assets/colab-badge.svg\" alt=\"Open In Colab\"/></a>"
      ]
    },
    {
      "cell_type": "code",
      "execution_count": null,
      "metadata": {
        "id": "XvOQz7taonfe"
      },
      "outputs": [],
      "source": [
        "!apt-get update"
      ]
    },
    {
      "cell_type": "code",
      "source": [
        "!apt-get install -y gdal-bin libgdal-dev python3-gdal proj-bin libproj-dev --no-install-recommends"
      ],
      "metadata": {
        "id": "kgomZRNfo6Pw"
      },
      "execution_count": null,
      "outputs": []
    },
    {
      "cell_type": "code",
      "source": [
        "!gdalinfo --version"
      ],
      "metadata": {
        "id": "TgHvMC3co6l_"
      },
      "execution_count": null,
      "outputs": []
    },
    {
      "cell_type": "code",
      "source": [
        "!pip install condacolab\n",
        "import condacolab\n",
        "condacolab.install()"
      ],
      "metadata": {
        "id": "EhJafHSNpb3P"
      },
      "execution_count": null,
      "outputs": []
    },
    {
      "cell_type": "code",
      "source": [
        "!conda install -c conda-forge -y numpy joblib rsgislib gdal libgdal-kea geos kealib scikit-learn scikit-image matplotlib pandas geopandas scipy rasterio shapely pip rtree tqdm jupyterlab xarray openpyxl xlsxwriter jupyterlab_code_formatter Pillow tuiview earthengine-api"
      ],
      "metadata": {
        "id": "NnkJef_zpfdX"
      },
      "execution_count": null,
      "outputs": []
    },
    {
      "cell_type": "code",
      "source": [
        "try:\n",
        "    import rsgislib\n",
        "    import rsgislib.imageutils\n",
        "    print(\"¡RSGISLib importado exitosamente usando Conda!\")\n",
        "    # Opcional: verificar la versión de GDAL que Conda instaló (si lo necesitas)\n",
        "    # from osgeo import gdal\n",
        "    # print(f\"Versión de GDAL (manejada por Conda): {gdal.__version__}\")\n",
        "except ImportError as e:\n",
        "    print(f\"Error al importar RSGISLib: {e}\")\n",
        "    print(\"La instalación con Conda podría haber fallado o estar incompleta.\")"
      ],
      "metadata": {
        "id": "YevMsKlJsUvY"
      },
      "execution_count": null,
      "outputs": []
    },
    {
      "cell_type": "code",
      "source": [
        "!wget https://zenodo.org/records/6908357/files/Aguascalientes-Geomedian-2017-2021.zip?download\n"
      ],
      "metadata": {
        "id": "topJBP6PqxaP"
      },
      "execution_count": null,
      "outputs": []
    },
    {
      "cell_type": "code",
      "source": [
        "import zipfile\n",
        "import os\n",
        "\n",
        "# Nombre del archivo zip que quieres descomprimir\n",
        "zip_file_name = 'Aguascalientes-Geomedian-2017-2021.zip'\n",
        "\n",
        "# Obtener el nombre base para crear la carpeta de extracción\n",
        "# (Ej: 'Aguascalientes-Geomedian-2017-2021')\n",
        "extract_folder_name = os.path.splitext(zip_file_name)[0]\n",
        "\n",
        "# Ruta completa al archivo zip (asume que está en el directorio raíz de Colab)\n",
        "zip_file_path = f'{zip_file_name}'\n",
        "\n",
        "# Ruta completa a la carpeta donde se extraerán los archivos\n",
        "extract_path = f'{extract_folder_name}'\n",
        "\n",
        "# Verificar si el archivo zip existe\n",
        "if not os.path.exists(zip_file_path):\n",
        "  print(f\"Error: No se encontró el archivo '{zip_file_path}'.\")\n",
        "  print(\"Asegúrate de que el archivo zip esté en el directorio '/content/' de Colab.\")\n",
        "else:\n",
        "  try:\n",
        "    # Crear la carpeta de destino si no existe\n",
        "    if not os.path.exists(extract_path):\n",
        "      os.makedirs(extract_path)\n",
        "      print(f\"Carpeta de extracción creada: '{extract_path}'\")\n",
        "\n",
        "    print(f\"Empezando a descomprimir '{zip_file_name}' en '{extract_path}'...\")\n",
        "\n",
        "    # Abrir el archivo zip en modo lectura\n",
        "    with zipfile.ZipFile(zip_file_path, 'r') as zip_ref:\n",
        "      # Extraer todo el contenido en la carpeta de destino\n",
        "      zip_ref.extractall(extract_path)\n",
        "\n",
        "    print(\"¡Archivo descomprimido exitosamente!\")\n",
        "    print(f\"Los archivos se encuentran en la carpeta: {extract_path}\")\n",
        "\n",
        "    # Opcional: Mostrar algunos de los archivos extraídos\n",
        "    print(\"\\nContenido extraído (primeros 10 archivos/carpetas):\")\n",
        "    extracted_items = os.listdir(extract_path)\n",
        "    for i, item in enumerate(extracted_items):\n",
        "        if i < 10:\n",
        "            print(f\"- {item}\")\n",
        "        else:\n",
        "            print(f\"... y {len(extracted_items) - 10} más.\")\n",
        "            break\n",
        "\n",
        "  except zipfile.BadZipFile:\n",
        "    print(f\"Error: El archivo '{zip_file_name}' parece estar corrupto o no es un archivo zip válido.\")\n",
        "  except Exception as e:\n",
        "    print(f\"Ocurrió un error inesperado durante la descompresión: {e}\")"
      ],
      "metadata": {
        "id": "PsHX7MIMuDxD"
      },
      "execution_count": null,
      "outputs": []
    },
    {
      "cell_type": "code",
      "source": [
        "!cp \"/content/Aguascalientes-Geomedian-2017-2021/Aguascalientes-Geomedian-2017-2021/GM_AGS_2020.tif\" \"/content/drive/MyDrive/COLMEX ML\""
      ],
      "metadata": {
        "id": "jZl3v3U4w1WT"
      },
      "execution_count": null,
      "outputs": []
    },
    {
      "cell_type": "code",
      "source": [
        "#https://drive.google.com/file/d/1JTlU6M2Kt2kpkPOsDmmsCVrT7m1RApAX/view?usp=sharing\n",
        "!gdown --id 1JTlU6M2Kt2kpkPOsDmmsCVrT7m1RApAX"
      ],
      "metadata": {
        "id": "ZvicJo-6yRsk"
      },
      "execution_count": null,
      "outputs": []
    },
    {
      "cell_type": "code",
      "source": [
        "import rsgislib # Asegúrate de que rsgislib esté instalado y sea importable\n",
        "import rsgislib.imageutils\n",
        "import os\n",
        "import time # Para medir el tiempo de conversión (opcional)\n",
        "\n",
        "# --- Configuración ---\n",
        "\n",
        "# Ruta al archivo TIF de entrada\n",
        "input_tif_file = 'GM_AGS_2020.tif'\n",
        "\n",
        "# Nombre deseado para el archivo KEA de salida\n",
        "output_kea_file = 'GM_AGS_2020.kea'\n",
        "\n",
        "# --- Verificación y Conversión ---\n",
        "\n",
        "print(f\"Intentando convertir '{input_tif_file}' a '{output_kea_file}' usando rsgislib.imageutils.gdal_translate (sin opciones explícitas)...\")\n",
        "\n",
        "# 1. Verificar si el archivo de entrada existe\n",
        "if not os.path.exists(input_tif_file):\n",
        "  print(f\"Error: El archivo de entrada no se encontró en '{input_tif_file}'\")\n",
        "  print(\"Verifica que la ruta sea correcta y que el archivo exista.\")\n",
        "else:\n",
        "  # 2. Ejecutar la conversión usando el wrapper de gdal_translate\n",
        "  try:\n",
        "    print(\"Iniciando conversión...\")\n",
        "    start_time = time.time() # Registrar tiempo de inicio\n",
        "\n",
        "    # Llamar a la función SIN pasar '-of KEA' en las opciones.\n",
        "    # Pasamos una lista vacía para el parámetro 'options'.\n",
        "    rsgislib.imageutils.gdal_translate(input_img=input_tif_file,\n",
        "                                     output_img=output_kea_file,\n",
        "                                     options=[]) # Lista de opciones vacía\n",
        "\n",
        "    end_time = time.time() # Registrar tiempo de finalización\n",
        "    processing_time = end_time - start_time\n",
        "\n",
        "    # 3. Verificar si el archivo de salida se creó\n",
        "    if os.path.exists(output_kea_file):\n",
        "      print(\"\\n----------------------------------------------------\")\n",
        "      print(\"¡Conversión a formato KEA completada exitosamente usando rsgislib.imageutils.gdal_translate!\")\n",
        "      print(f\"Archivo de salida: {output_kea_file}\")\n",
        "      print(f\"Tiempo de procesamiento: {processing_time:.2f} segundos\")\n",
        "      print(\"----------------------------------------------------\")\n",
        "\n",
        "      # Opcional: Verificar el formato del driver del archivo creado usando gdalinfo\n",
        "      print(\"\\nVerificando formato del archivo de salida...\")\n",
        "      # Usamos ! para llamar gdalinfo y filtramos solo la línea del Driver\n",
        "      !gdalinfo {output_kea_file} | grep Driver\n",
        "    else:\n",
        "      print(\"\\nError: La función de conversión se ejecutó pero el archivo de salida no fue creado.\")\n",
        "      print(\"Revisa si hubo algún mensaje de error de rsgislib/GDAL durante el proceso.\")\n",
        "\n",
        "  # Capturar posibles errores en los parámetros (si los nombres no son input_img, etc.)\n",
        "  except TypeError as te:\n",
        "      print(f\"\\nError de tipo al llamar a la función rsgislib.imageutils.gdal_translate: {te}\")\n",
        "      print(\"Esto podría indicar que los nombres de los parámetros (ej. 'input_img', 'output_img', 'options') no son los correctos para esta versión.\")\n",
        "  except Exception as e:\n",
        "    print(f\"\\nError durante la conversión con rsgislib.imageutils.gdal_translate: {e}\")\n",
        "    # Añadimos una comprobación específica por si el error persiste\n",
        "    if \"Duplicate argument -of\" in str(e):\n",
        "         print(\"\\n***¡El error 'Duplicate argument -of' persiste!***\")\n",
        "         print(\"Esto es inesperado. Sugiere que la función wrapper podría tener un problema.\")\n",
        "         print(\"Como alternativa robusta, por favor usa el comando !gdal_translate directamente:\")\n",
        "         print(f\"!gdal_translate -of KEA {input_tif_file} {output_kea_file}\")"
      ],
      "metadata": {
        "id": "06IJ6qIKy6w3"
      },
      "execution_count": null,
      "outputs": []
    },
    {
      "cell_type": "code",
      "source": [
        "import rsgislib.imageutils\n",
        "\n",
        "# Lista todas las funciones y atributos disponibles en el módulo\n",
        "print(dir(rsgislib.imageutils))"
      ],
      "metadata": {
        "id": "ibX9nw--zY8Y"
      },
      "execution_count": null,
      "outputs": []
    },
    {
      "cell_type": "code",
      "source": [],
      "metadata": {
        "id": "WU2KPtTw0Zf9"
      },
      "execution_count": null,
      "outputs": []
    }
  ]
}