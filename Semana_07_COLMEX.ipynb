{
  "nbformat": 4,
  "nbformat_minor": 0,
  "metadata": {
    "colab": {
      "provenance": [],
      "authorship_tag": "ABX9TyMEQUGB4Usrvcb+YZIGk3xu",
      "include_colab_link": true
    },
    "kernelspec": {
      "name": "python3",
      "display_name": "Python 3"
    },
    "language_info": {
      "name": "python"
    }
  },
  "cells": [
    {
      "cell_type": "markdown",
      "metadata": {
        "id": "view-in-github",
        "colab_type": "text"
      },
      "source": [
        "<a href=\"https://colab.research.google.com/github/abxda/COLMEX-ML/blob/main/Semana_07_COLMEX.ipynb\" target=\"_parent\"><img src=\"https://colab.research.google.com/assets/colab-badge.svg\" alt=\"Open In Colab\"/></a>"
      ]
    },
    {
      "cell_type": "code",
      "source": [
        "import warnings\n",
        "\n",
        "# Configurar filtro de warnings\n",
        "warnings.filterwarnings(\"ignore\",\n",
        "                        category=FutureWarning,  # o warnings.FutureWarning\n",
        "                        module=\"sklearn.*\",\n",
        "                        message=\".*'force_all_finite'.*\")"
      ],
      "metadata": {
        "id": "PLkUEKsy6o6A"
      },
      "execution_count": null,
      "outputs": []
    },
    {
      "cell_type": "code",
      "source": [
        "import geopandas as gpd\n",
        "import duckdb\n",
        "import numpy as np\n",
        "import pandas as pd\n",
        "from sklearn.cluster import KMeans, DBSCAN\n",
        "from sklearn.preprocessing import StandardScaler\n",
        "from shapely.wkb import loads as wkb_loads\n",
        "import urllib.request\n",
        "import matplotlib.pyplot as plt\n",
        "from matplotlib.colors import ListedColormap\n",
        "import ipywidgets as widgets\n",
        "from IPython.display import display"
      ],
      "metadata": {
        "id": "aROY1sH6xxTz"
      },
      "execution_count": null,
      "outputs": []
    },
    {
      "cell_type": "code",
      "source": [
        "\n",
        "# Descargar y cargar datos\n",
        "url = \"https://github.com/abxda/COLMEX-ML/raw/refs/heads/main/data/hex_final.duckdb\"\n",
        "urllib.request.urlretrieve(url, \"hex_final.duckdb\")\n",
        "con = duckdb.connect(\"hex_final.duckdb\")\n",
        "hex_final_df = con.execute(\"SELECT * FROM hex_final\").fetchdf()\n",
        "\n",
        "# Llenar NaNs en variables relevantes\n",
        "cols_to_fill = ['ViviendasInternet', 'ViviendasConsola', 'ViviendasStreaming', 'TotalViviendas']\n",
        "hex_final_df[cols_to_fill] = hex_final_df[cols_to_fill].fillna(0.0)\n",
        "\n",
        "# Convertir geometría\n",
        "hex_final_df[\"geometry\"] = hex_final_df[\"geometry\"].apply(lambda x: wkb_loads(bytes(x)) if x is not None else None)\n",
        "hex_final = gpd.GeoDataFrame(hex_final_df, geometry=\"geometry\", crs=\"EPSG:4326\")\n",
        "\n",
        "# Calcular proporciones\n",
        "hex_final['ProporcionVInternet'] = np.where(\n",
        "    hex_final['TotalViviendas'] > 0,\n",
        "    hex_final['ViviendasInternet'] / hex_final['TotalViviendas'],\n",
        "    0.0\n",
        ")\n",
        "\n",
        "hex_final['ProporcionVConsola'] = np.where(\n",
        "    hex_final['TotalViviendas'] > 0,\n",
        "    hex_final['ViviendasConsola'] / hex_final['TotalViviendas'],\n",
        "    0.0\n",
        ")\n",
        "\n",
        "hex_final['ProporcionVStreaming'] = np.where(\n",
        "    hex_final['TotalViviendas'] > 0,\n",
        "    hex_final['ViviendasStreaming'] / hex_final['TotalViviendas'],\n",
        "    0.0\n",
        ")"
      ],
      "metadata": {
        "id": "NqRWCLs_lVjY"
      },
      "execution_count": null,
      "outputs": []
    },
    {
      "cell_type": "code",
      "source": [
        "# Preparar datos para clustering\n",
        "X = hex_final[['ProporcionVInternet', 'ProporcionVConsola', 'ProporcionVStreaming']].values\n",
        "scaler = StandardScaler()\n",
        "X_scaled = scaler.fit_transform(X)"
      ],
      "metadata": {
        "id": "Wo-HxgMaoYWj"
      },
      "execution_count": null,
      "outputs": []
    },
    {
      "cell_type": "code",
      "source": [
        "from sklearn.cluster import KMeans\n",
        "\n",
        "def apply_kmeans(gdf, X_scaled, n_clusters):\n",
        "    gdf = gdf.copy()\n",
        "    kmeans = KMeans(n_clusters=n_clusters, random_state=42, n_init=10)\n",
        "    clusters = kmeans.fit_predict(X_scaled)\n",
        "    gdf['kmeans_cluster'] = clusters\n",
        "\n",
        "    cluster_means = gdf.groupby('kmeans_cluster')[[\n",
        "        'ProporcionVInternet', 'ProporcionVConsola', 'ProporcionVStreaming'\n",
        "    ]].mean().mean(axis=1)\n",
        "    sorted_clusters = cluster_means.sort_values(ascending=False).index.tolist()\n",
        "\n",
        "    color_map = {}\n",
        "    for idx, cluster in enumerate(sorted_clusters):\n",
        "        if idx < 2:\n",
        "            color_map[cluster] = 'green'\n",
        "        elif idx == 2:\n",
        "            color_map[cluster] = 'yellow'\n",
        "        else:\n",
        "            color_map[cluster] = 'red'\n",
        "\n",
        "    gdf['kmeans_strata'] = gdf['kmeans_cluster'].map(color_map)\n",
        "\n",
        "    return gdf\n"
      ],
      "metadata": {
        "id": "OcsRnPR7q3Fm"
      },
      "execution_count": null,
      "outputs": []
    },
    {
      "cell_type": "code",
      "source": [
        "from sklearn.cluster import DBSCAN\n",
        "def apply_dbscan(gdf, X_scaled, eps, min_samples):\n",
        "    gdf = gdf.copy()\n",
        "    dbscan = DBSCAN(eps=eps, min_samples=min_samples)\n",
        "    clusters = dbscan.fit_predict(X_scaled)\n",
        "    gdf['dbscan_cluster'] = clusters\n",
        "\n",
        "    valid_clusters = gdf[gdf['dbscan_cluster'] != -1]\n",
        "    if not valid_clusters.empty:\n",
        "        dbscan_means = valid_clusters.groupby('dbscan_cluster')[[\n",
        "            'ProporcionVInternet', 'ProporcionVConsola', 'ProporcionVStreaming'\n",
        "        ]].mean().mean(axis=1)\n",
        "        sorted_dbscan = dbscan_means.sort_values(ascending=False).index.tolist()\n",
        "\n",
        "        color_map = {}\n",
        "        for idx, cluster in enumerate(sorted_dbscan):\n",
        "            color_map[cluster] = 'green' if idx < 2 else 'yellow' if idx == 2 else 'red'\n",
        "\n",
        "        gdf['dbscan_strata'] = (\n",
        "            gdf['dbscan_cluster']\n",
        "            .map(color_map)\n",
        "            .fillna('red'))\n",
        "    else:\n",
        "        gdf['dbscan_strata'] = 'red'\n",
        "\n",
        "    return gdf"
      ],
      "metadata": {
        "id": "1rrzPaKg4kTt"
      },
      "execution_count": null,
      "outputs": []
    },
    {
      "cell_type": "code",
      "source": [
        "import hdbscan\n",
        "\n",
        "def apply_hdbscan(gdf, X_scaled, min_cluster_size, min_samples):\n",
        "    gdf = gdf.copy()\n",
        "    clusterer = hdbscan.HDBSCAN(min_cluster_size=min_cluster_size,\n",
        "                              min_samples=min_samples,\n",
        "                              cluster_selection_method='eom')\n",
        "    clusters = clusterer.fit_predict(X_scaled)\n",
        "    gdf['hdbscan_cluster'] = clusters\n",
        "\n",
        "    valid_clusters = gdf[gdf['hdbscan_cluster'] != -1]\n",
        "    if not valid_clusters.empty:\n",
        "        hdbscan_means = valid_clusters.groupby('hdbscan_cluster')[[\n",
        "            'ProporcionVInternet', 'ProporcionVConsola', 'ProporcionVStreaming'\n",
        "        ]].mean().mean(axis=1)\n",
        "        sorted_clusters = hdbscan_means.sort_values(ascending=False).index.tolist()\n",
        "\n",
        "        color_map = {}\n",
        "        for idx, cluster in enumerate(sorted_clusters):\n",
        "            color_map[cluster] = 'green' if idx < 2 else 'yellow' if idx == 2 else 'red'\n",
        "\n",
        "        gdf['hdbscan_strata'] = (\n",
        "            gdf['hdbscan_cluster']\n",
        "            .map(color_map)\n",
        "            .fillna('red'))\n",
        "    else:\n",
        "        gdf['hdbscan_strata'] = 'red'\n",
        "\n",
        "    return gdf"
      ],
      "metadata": {
        "id": "GPxTl3OYrn6P"
      },
      "execution_count": null,
      "outputs": []
    },
    {
      "cell_type": "code",
      "source": [
        "from sklearn.mixture import GaussianMixture\n",
        "\n",
        "def apply_gmm(gdf, X_scaled, n_components, covariance_type):\n",
        "    gdf = gdf.copy()\n",
        "    gmm = GaussianMixture(n_components=n_components,\n",
        "                        covariance_type=covariance_type,\n",
        "                        random_state=42)\n",
        "    clusters = gmm.fit_predict(X_scaled)\n",
        "    gdf['gmm_cluster'] = clusters\n",
        "\n",
        "    cluster_means = gdf.groupby('gmm_cluster')[[\n",
        "        'ProporcionVInternet', 'ProporcionVConsola', 'ProporcionVStreaming'\n",
        "    ]].mean().mean(axis=1)\n",
        "    sorted_clusters = cluster_means.sort_values(ascending=False).index.tolist()\n",
        "\n",
        "    color_map = {}\n",
        "    for idx, cluster in enumerate(sorted_clusters):\n",
        "        color_map[cluster] = 'green' if idx < 2 else 'yellow' if idx == 2 else 'red'\n",
        "\n",
        "    gdf['gmm_strata'] = gdf['gmm_cluster'].map(color_map)\n",
        "\n",
        "    return gdf"
      ],
      "metadata": {
        "id": "4zcO5RbKzuca"
      },
      "execution_count": null,
      "outputs": []
    },
    {
      "cell_type": "code",
      "source": [
        "from sklearn.cluster import SpectralClustering\n",
        "\n",
        "def apply_spectral(gdf, X_scaled, n_clusters, gamma):\n",
        "    gdf = gdf.copy()\n",
        "    spectral = SpectralClustering(n_clusters=n_clusters,\n",
        "                                gamma=gamma,\n",
        "                                affinity='rbf',\n",
        "                                random_state=42)\n",
        "    clusters = spectral.fit_predict(X_scaled)\n",
        "    gdf['spectral_cluster'] = clusters\n",
        "\n",
        "    cluster_means = gdf.groupby('spectral_cluster')[[\n",
        "        'ProporcionVInternet', 'ProporcionVConsola', 'ProporcionVStreaming'\n",
        "    ]].mean().mean(axis=1)\n",
        "    sorted_clusters = cluster_means.sort_values(ascending=False).index.tolist()\n",
        "\n",
        "    color_map = {}\n",
        "    for idx, cluster in enumerate(sorted_clusters):\n",
        "        color_map[cluster] = 'green' if idx < 2 else 'yellow' if idx == 2 else 'red'\n",
        "\n",
        "    gdf['spectral_strata'] = gdf['spectral_cluster'].map(color_map)\n",
        "\n",
        "    return gdf\n",
        "\n"
      ],
      "metadata": {
        "id": "u-SyHwGUz7b4"
      },
      "execution_count": null,
      "outputs": []
    },
    {
      "cell_type": "code",
      "source": [],
      "metadata": {
        "id": "bXVf7Z7hbW__"
      },
      "execution_count": null,
      "outputs": []
    },
    {
      "cell_type": "code",
      "source": [
        "from matplotlib.pyplot import close\n",
        "\n",
        "# Configuración completa de métodos y parámetros\n",
        "METHOD_CONFIG = {\n",
        "    'K-Means': {\n",
        "        'function': apply_kmeans,\n",
        "        'params': [\n",
        "            {'n_clusters': 3},\n",
        "            {'n_clusters': 4},\n",
        "            {'n_clusters': 5},\n",
        "            {'n_clusters': 6},\n",
        "            {'n_clusters': 7}\n",
        "        ]\n",
        "    },\n",
        "    'DBSCAN': {\n",
        "        'function': apply_dbscan,\n",
        "        'params': [\n",
        "            {'eps': 0.01, 'min_samples': 10},\n",
        "            {'eps': 0.04, 'min_samples': 10},\n",
        "            {'eps': 0.04, 'min_samples': 10},\n",
        "            {'eps': 0.03, 'min_samples': 10},\n",
        "            {'eps': 0.02, 'min_samples': 10}\n",
        "        ]\n",
        "    },\n",
        "    'HDBSCAN': {\n",
        "        'function': apply_hdbscan,\n",
        "        'params': [\n",
        "            {'min_cluster_size': 50, 'min_samples': None},\n",
        "            {'min_cluster_size': 60, 'min_samples': None},\n",
        "            {'min_cluster_size': 70, 'min_samples': None},\n",
        "            {'min_cluster_size': 80, 'min_samples': None},\n",
        "            {'min_cluster_size': 90, 'min_samples': None}\n",
        "        ]\n",
        "    },\n",
        "    'GMM': {\n",
        "        'function': apply_gmm,\n",
        "        'params': [\n",
        "            {'n_components': 4, 'covariance_type': 'full'},\n",
        "            {'n_components': 4, 'covariance_type': 'diag'},\n",
        "            {'n_components': 5, 'covariance_type': 'full'},\n",
        "            {'n_components': 6, 'covariance_type': 'diag'},\n",
        "            {'n_components': 6, 'covariance_type': 'full'}\n",
        "        ]\n",
        "    },\n",
        "    'Spectral': {\n",
        "        'function': apply_spectral,\n",
        "        'params': [\n",
        "            {'n_clusters': 5, 'gamma': 5.0},\n",
        "            {'n_clusters': 6, 'gamma': 0.5},\n",
        "            {'n_clusters': 7, 'gamma': 5.0},\n",
        "            {'n_clusters': 5, 'gamma': 1.0},\n",
        "            {'n_clusters': 5, 'gamma': 2.0}\n",
        "        ]\n",
        "    }\n",
        "}\n",
        "\n",
        "\n",
        "# Función para generar todas las visualizaciones\n",
        "def generate_all_visualizations():\n",
        "    cmap = ListedColormap(['green', 'red', 'yellow'])\n",
        "\n",
        "    for method_name, config in METHOD_CONFIG.items():\n",
        "        fig, axes = plt.subplots(1, 5, figsize=(25, 5))\n",
        "        fig.suptitle(f\"Método: {method_name}\", y=1.05, fontsize=16)\n",
        "\n",
        "        for i, params in enumerate(config['params']):\n",
        "            temp_gdf = config['function'](hex_final, X_scaled, **params)\n",
        "            column_name = f\"{method_name.lower().replace('-', '')}_strata\"\n",
        "\n",
        "            temp_gdf.plot(\n",
        "                column=column_name,\n",
        "                ax=axes[i],\n",
        "                categorical=True,\n",
        "                cmap=cmap,\n",
        "                legend=True,\n",
        "                legend_kwds={\n",
        "                    'title': \"\\n\".join([f\"{k}={v}\" for k, v in params.items()]),\n",
        "                    'loc': 'lower right'\n",
        "                }\n",
        "            )\n",
        "            axes[i].set_title(f\"Variación {i+1}\", fontsize=12)\n",
        "            axes[i].set_axis_off()\n",
        "\n",
        "        plt.tight_layout()\n",
        "        plt.show()\n",
        "        close('all')  # Limpiar memoria de figuras\n",
        "\n",
        "# Ejecutar generación de todas las gráficas\n",
        "generate_all_visualizations()\n"
      ],
      "metadata": {
        "id": "NVo76Txkz-di"
      },
      "execution_count": null,
      "outputs": []
    },
    {
      "cell_type": "code",
      "source": [
        "# -----------------------------------------------------------------\n",
        "# CELDA FINAL PARA EXPORTAR (EJECUTAR SOLO DESPUÉS DE ELEGIR)\n",
        "# -----------------------------------------------------------------\n",
        "# Sustituir con selección del usuario\n",
        "METODO_ELEGIDO = 'K-Means'#'GMM'  # Opciones: 'K-Means', 'DBSCAN', 'HDBSCAN', 'GMM', 'Spectral'\n",
        "PARAMETROS_ELEGIDOS = {'n_clusters': 7}#{'n_components': 5, 'covariance_type': 'full'}  # Usar parámetros de la variación elegida\n",
        "\n",
        "# Aplicar método seleccionado\n",
        "method_functions = {\n",
        "    'K-Means': apply_kmeans,\n",
        "    'DBSCAN': apply_dbscan,\n",
        "    'HDBSCAN': apply_hdbscan,\n",
        "    'GMM': apply_gmm,\n",
        "    'Spectral': apply_spectral\n",
        "}\n",
        "\n",
        "hex_final = method_functions[METODO_ELEGIDO](hex_final, X_scaled, **PARAMETROS_ELEGIDOS)\n",
        "\n",
        "# Exportar resultados\n",
        "hex_final.to_file(f\"hex_final_strata_{METODO_ELEGIDO}.gpkg\", driver=\"GPKG\", layer=\"hex_data_strata\")\n",
        "print(f\"¡Mapa exportado con éxito usando {METODO_ELEGIDO}!\")\n",
        "print(\"Parámetros utilizados:\", PARAMETROS_ELEGIDOS)\n"
      ],
      "metadata": {
        "id": "wdal2L7s0AD_"
      },
      "execution_count": null,
      "outputs": []
    },
    {
      "cell_type": "code",
      "source": [
        "from sklearn.cluster import KMeans\n",
        "from sklearn.metrics import silhouette_score, davies_bouldin_score\n",
        "\n",
        "resultados_kmeans = []\n",
        "for k in range(5, 11):  # probar k = 2,3,4,5,6\n",
        "    modelo = KMeans(n_clusters=k, random_state=0)\n",
        "    labels = modelo.fit_predict(X_scaled)\n",
        "    sil = silhouette_score(X_scaled, labels)  # solo se calcula si k>1\n",
        "    dbi = davies_bouldin_score(X_scaled, labels)\n",
        "    resultados_kmeans.append((k, sil, dbi))\n",
        "\n",
        "# Ordenar resultados por silueta de mayor a menor\n",
        "resultados_kmeans.sort(key=lambda tup: tup[1], reverse=True)\n",
        "for k, sil, dbi in resultados_kmeans:\n",
        "    print(f\"K={k}: silhouette={sil:.3f}, DBI={dbi:.3f}\")"
      ],
      "metadata": {
        "id": "62Xv9q_28FMg"
      },
      "execution_count": null,
      "outputs": []
    },
    {
      "cell_type": "code",
      "source": [
        "from sklearn.cluster import DBSCAN\n",
        "\n",
        "resultados_dbscan = []\n",
        "for eps in [0.01, 0.02, 0.03, 0.04, 0.05, 0.06, 0.07]:\n",
        "    for min_samples in [5, 7 , 8, 9, 10, 15]:\n",
        "        modelo = DBSCAN(eps=eps, min_samples=min_samples)\n",
        "        labels = modelo.fit_predict(X_scaled)\n",
        "        # Filtrar ruido para evaluación\n",
        "        core_mask = (labels != -1)\n",
        "        n_clusters = len(set(labels[core_mask]))  # número de clusters (sin contar ruido)\n",
        "        if n_clusters >= 2:\n",
        "            sil = silhouette_score(X_scaled[core_mask], labels[core_mask])\n",
        "            dbi = davies_bouldin_score(X_scaled[core_mask], labels[core_mask])\n",
        "            resultados_dbscan.append(((eps, min_samples), sil, dbi))\n",
        "# Ordenar por silueta descendente\n",
        "resultados_dbscan.sort(key=lambda tup: tup[1], reverse=True)\n",
        "for (eps, min_samples), sil, dbi in resultados_dbscan[:5]:\n",
        "    print(f\"eps={eps}, min_samples={min_samples}: silhouette={sil:.3f}, DBI={dbi:.3f}\")"
      ],
      "metadata": {
        "id": "2IKwKwesIjc2"
      },
      "execution_count": null,
      "outputs": []
    },
    {
      "cell_type": "code",
      "source": [
        "import hdbscan\n",
        "resultados_hdb = []\n",
        "for mcs in [50, 60, 70, 80, 90]:\n",
        "    # Ejemplo: min_samples=None (por defecto = mcs), probar min_samples fijos\n",
        "    clusterer = hdbscan.HDBSCAN(min_cluster_size=mcs, min_samples=None)\n",
        "    labels = clusterer.fit_predict(X_scaled)\n",
        "    # Excluir ruido\n",
        "    core_mask = (labels != -1)\n",
        "    n_clusters = len(set(labels[core_mask]))\n",
        "    if n_clusters >= 2:\n",
        "        sil = silhouette_score(X_scaled[core_mask], labels[core_mask])\n",
        "        dbi = davies_bouldin_score(X_scaled[core_mask], labels[core_mask])\n",
        "        resultados_hdb.append((mcs, sil, dbi))\n",
        "# Ordenar por silueta\n",
        "resultados_hdb.sort(key=lambda tup: tup[1], reverse=True)\n",
        "for mcs, sil, dbi in resultados_hdb[:5]:\n",
        "    print(f\"min_cluster_size={mcs}: silhouette={sil:.3f}, DBI={dbi:.3f}\")"
      ],
      "metadata": {
        "id": "-whKDDSvKM1H"
      },
      "execution_count": null,
      "outputs": []
    },
    {
      "cell_type": "code",
      "source": [
        "from sklearn.mixture import GaussianMixture\n",
        "\n",
        "resultados_gmm = []\n",
        "for n in range(4, 7):\n",
        "    for covar in [\"full\", \"diag\"]:\n",
        "        modelo = GaussianMixture(n_components=n, covariance_type=covar, random_state=0)\n",
        "        labels = modelo.fit_predict(X_scaled)\n",
        "        # Notar: GMM siempre asigna todos los puntos a alguno de los n componentes\n",
        "        sil = silhouette_score(X_scaled, labels)\n",
        "        dbi = davies_bouldin_score(X_scaled, labels)\n",
        "        resultados_gmm.append(((n, covar), sil, dbi))\n",
        "resultados_gmm.sort(key=lambda tup: tup[1], reverse=True)\n",
        "for (n, covar), sil, dbi in resultados_gmm[:5]:\n",
        "    print(f\"n_comp={n}, covar={covar}: silhouette={sil:.3f}, DBI={dbi:.3f}\")"
      ],
      "metadata": {
        "id": "Lo2Uf4imKqGu"
      },
      "execution_count": null,
      "outputs": []
    },
    {
      "cell_type": "code",
      "source": [
        "# Definir rango ampliado de búsqueda\n",
        "n_clusters_range = range(2, 10)  # más clusters\n",
        "gamma_values = [0.1, 0.5, 1, 2, 5, 10]  # mayor variedad en gamma\n",
        "resultados_spectral = []\n",
        "\n",
        "for k in n_clusters_range:\n",
        "    for gamma in gamma_values:\n",
        "        modelo = SpectralClustering(n_clusters=k, affinity='rbf', gamma=gamma, random_state=42, assign_labels='kmeans')\n",
        "        labels = modelo.fit_predict(X_scaled)\n",
        "\n",
        "        # Evitar configuraciones inválidas (todos los puntos en un solo cluster)\n",
        "        if len(set(labels)) > 1:\n",
        "            sil = silhouette_score(X_scaled, labels)\n",
        "            dbi = davies_bouldin_score(X_scaled, labels)\n",
        "            resultados_spectral.append(((k, gamma), sil, dbi))\n",
        "\n",
        "# Ordenar resultados por silhouette (alta es mejor)\n",
        "resultados_spectral.sort(key=lambda tup: tup[1], reverse=True)\n",
        "\n",
        "# Mostrar las 5 mejores configuraciones\n",
        "print(\"Mejores configuraciones SpectralClustering:\")\n",
        "for (k, gamma), sil, dbi in resultados_spectral[:5]:\n",
        "    print(f\"n_clusters={k}, gamma={gamma}: silhouette={sil:.3f}, DBI={dbi:.3f}\")\n"
      ],
      "metadata": {
        "id": "j0vLYbaRNJyn"
      },
      "execution_count": null,
      "outputs": []
    },
    {
      "cell_type": "code",
      "source": [],
      "metadata": {
        "id": "QApewA-rdqsb"
      },
      "execution_count": null,
      "outputs": []
    },
    {
      "cell_type": "code",
      "source": [
        "color_map"
      ],
      "metadata": {
        "id": "5YWHHrsHPyxS"
      },
      "execution_count": null,
      "outputs": []
    },
    {
      "cell_type": "code",
      "source": [
        "sorted_clusters"
      ],
      "metadata": {
        "id": "OT-Id2UAdbcc"
      },
      "execution_count": null,
      "outputs": []
    },
    {
      "cell_type": "code",
      "source": [
        "    gdf = hex_final.copy()\n",
        "    kmeans = KMeans(n_clusters=7, random_state=42, n_init=10)\n",
        "    clusters = kmeans.fit_predict(X_scaled)\n",
        "    gdf['kmeans_cluster'] = clusters\n",
        "\n",
        "    cluster_means = gdf.groupby('kmeans_cluster')[[\n",
        "        'ProporcionVInternet', 'ProporcionVConsola', 'ProporcionVStreaming'\n",
        "    ]].mean().mean(axis=1)\n",
        "    sorted_clusters = cluster_means.sort_values(ascending=False).index.tolist()\n",
        "\n",
        "    color_map = {}\n",
        "    for idx, cluster in enumerate(sorted_clusters):\n",
        "        if idx < 2:\n",
        "            color_map[cluster] = 'green'\n",
        "        elif idx == 2:\n",
        "            color_map[cluster] = 'yellow'\n",
        "        else:\n",
        "            color_map[cluster] = 'red'\n",
        "\n",
        "    gdf['kmeans_strata'] = gdf['kmeans_cluster'].map(color_map)\n",
        "\n",
        "    gdf"
      ],
      "metadata": {
        "id": "GFdrGUjYc0Og"
      },
      "execution_count": null,
      "outputs": []
    },
    {
      "cell_type": "code",
      "source": [],
      "metadata": {
        "id": "JT9ywZxTdKYB"
      },
      "execution_count": null,
      "outputs": []
    }
  ]
}