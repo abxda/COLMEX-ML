{
  "nbformat": 4,
  "nbformat_minor": 0,
  "metadata": {
    "colab": {
      "provenance": [],
      "authorship_tag": "ABX9TyOiE9wo7vSMhM/AjkgbFyOK",
      "include_colab_link": true
    },
    "kernelspec": {
      "name": "python3",
      "display_name": "Python 3"
    },
    "language_info": {
      "name": "python"
    }
  },
  "cells": [
    {
      "cell_type": "markdown",
      "metadata": {
        "id": "view-in-github",
        "colab_type": "text"
      },
      "source": [
        "<a href=\"https://colab.research.google.com/github/abxda/COLMEX-ML/blob/main/Semana_05_01_COLMEX.ipynb\" target=\"_parent\"><img src=\"https://colab.research.google.com/assets/colab-badge.svg\" alt=\"Open In Colab\"/></a>"
      ]
    },
    {
      "cell_type": "code",
      "source": [
        "\"\"\"\n",
        "Script para la estratificación de datos de servicios en viviendas utilizando K-Means.\n",
        "Se muestran dos estrategias:\n",
        "    1) Uso de variables en valores absolutos con estandarización (StandardScaler) para K-Means.\n",
        "       - K-Means es sensible a la escala de las variables, por lo que se emplea StandardScaler para igualar la varianza.\n",
        "    2) Uso de proporciones (variables relativas) respecto al total de viviendas habitadas.\n",
        "       - Al calcular proporciones, se elimina el sesgo de magnitud por el total de viviendas, lo que puede generar clusters\n",
        "         que reflejen mejor la penetración de cada servicio.\n",
        "\n",
        "Requiere: duckdb, geopandas, scikit-learn, pandas, shapely, numpy\n",
        "\"\"\""
      ],
      "metadata": {
        "colab": {
          "base_uri": "https://localhost:8080/",
          "height": 104
        },
        "id": "96oSZ5y5nJJI",
        "outputId": "cce79d32-54d5-4788-90e3-28fbdd93e7d3"
      },
      "execution_count": null,
      "outputs": [
        {
          "output_type": "execute_result",
          "data": {
            "text/plain": [
              "'\\nScript para la estratificación de datos de servicios en viviendas utilizando K-Means.\\nSe muestran dos estrategias:\\n    1) Uso de variables en valores absolutos con estandarización (StandardScaler) para K-Means.\\n       - K-Means es sensible a la escala de las variables, por lo que se emplea StandardScaler para igualar la varianza.\\n    2) Uso de proporciones (variables relativas) respecto al total de viviendas habitadas.\\n       - Al calcular proporciones, se elimina el sesgo de magnitud por el total de viviendas, lo que puede generar clusters\\n         que reflejen mejor la penetración de cada servicio.\\n\\nRequiere: duckdb, geopandas, scikit-learn, pandas, shapely, numpy\\n'"
            ],
            "application/vnd.google.colaboratory.intrinsic+json": {
              "type": "string"
            }
          },
          "metadata": {},
          "execution_count": 1
        }
      ]
    },
    {
      "cell_type": "code",
      "source": [
        "pip install duckdb geopandas scikit-learn --quiet"
      ],
      "metadata": {
        "id": "WYvmAKFmnPO2"
      },
      "execution_count": null,
      "outputs": []
    },
    {
      "cell_type": "code",
      "source": [
        "# 1. Importar librerías necesarias\n",
        "import duckdb\n",
        "import geopandas as gpd\n",
        "from sklearn.cluster import KMeans\n",
        "from sklearn.preprocessing import StandardScaler\n",
        "import pandas as pd\n",
        "from shapely import wkb\n",
        "import numpy as np"
      ],
      "metadata": {
        "id": "iXJWQZbEnRtu"
      },
      "execution_count": null,
      "outputs": []
    },
    {
      "cell_type": "code",
      "source": [
        "# 2. Conexión a la base de datos DuckDB y configuración espacial\n",
        "con = duckdb.connect('datos_inegi.duckdb')\n",
        "con.execute(\"INSTALL spatial;\")\n",
        "con.execute(\"LOAD spatial;\")"
      ],
      "metadata": {
        "colab": {
          "base_uri": "https://localhost:8080/"
        },
        "id": "xK_iVFA0nT5O",
        "outputId": "41ff7472-b4fa-4e1d-cb7c-a44e52e79ad4"
      },
      "execution_count": null,
      "outputs": [
        {
          "output_type": "execute_result",
          "data": {
            "text/plain": [
              "<duckdb.duckdb.DuckDBPyConnection at 0x7fa2705473b0>"
            ]
          },
          "metadata": {},
          "execution_count": 4
        }
      ]
    },
    {
      "cell_type": "code",
      "source": [
        "# 3. Extracción de datos desde la base de datos\n",
        "query = \"\"\"\n",
        "SELECT\n",
        "    VPH_CEL,    -- Total de Viviendas con Teléfono celular\n",
        "    VPH_INTER,  -- Total de Viviendas con Internet\n",
        "    VPH_STVP,   -- Total de Viviendas con TV de paga\n",
        "    VPH_SPMVPI, -- Total de Viviendas con Servicios de streaming\n",
        "    VPH_CVJ,    -- Total de Viviendas con Consolas de videojuegos\n",
        "    TVIVHAB,    -- Total de Viviendas Habitadas\n",
        "    ST_AsWKB(geometry) AS geometry  -- Geometría en formato WKB\n",
        "FROM censo_geo;\n",
        "\"\"\"\n",
        "df = con.execute(query).fetchdf()\n",
        "\n"
      ],
      "metadata": {
        "id": "Z0tzf7HCnVh1"
      },
      "execution_count": null,
      "outputs": []
    },
    {
      "cell_type": "code",
      "source": [
        "# 4. Conversión a GeoDataFrame y carga de la geometría\n",
        "gdf = gpd.GeoDataFrame(\n",
        "    df.drop(columns=\"geometry\"),  # Se evita duplicar la columna de geometría\n",
        "    geometry=[wkb.loads(bytes(wkb_bin)) if wkb_bin is not None else None for wkb_bin in df[\"geometry\"]],\n",
        "    crs=\"EPSG:4326\"\n",
        ")"
      ],
      "metadata": {
        "id": "rWzEnWRPnYLv"
      },
      "execution_count": null,
      "outputs": []
    },
    {
      "cell_type": "code",
      "source": [
        "#########################################\n",
        "# PARTE A: CLUSTERING CON VALORES ABSOLUTOS\n",
        "#########################################\n",
        "\n",
        "# 5A. Selección de variables de interés y manejo de valores faltantes\n",
        "variables = ['VPH_CEL', 'VPH_INTER', 'VPH_STVP', 'VPH_SPMVPI', 'VPH_CVJ']\n",
        "X_abs = gdf[variables].fillna(0)"
      ],
      "metadata": {
        "id": "0ac_JRzxnaS-"
      },
      "execution_count": null,
      "outputs": []
    },
    {
      "cell_type": "code",
      "source": [
        "# 6A. Estandarización de los datos\n",
        "#    K-Means utiliza la distancia euclidiana, por lo que es esencial que cada variable contribuya de forma equitativa.\n",
        "scaler = StandardScaler()\n",
        "X_scaled = scaler.fit_transform(X_abs)"
      ],
      "metadata": {
        "id": "Fo2nqwlvniRF"
      },
      "execution_count": null,
      "outputs": []
    },
    {
      "cell_type": "code",
      "source": [
        "# 7A. Aplicación de K-Means con 5 clusters\n",
        "#    Se asigna a cada registro un 'estrato' según el cluster resultante.\n",
        "kmeans_abs = KMeans(n_clusters=5, random_state=42)\n",
        "gdf['estrato_abs'] = kmeans_abs.fit_predict(X_scaled)\n"
      ],
      "metadata": {
        "id": "rLCMXOCYnkM2"
      },
      "execution_count": null,
      "outputs": []
    },
    {
      "cell_type": "code",
      "source": [
        "# 8A. Cálculo de medias por estrato para cada variable\n",
        "medias_estratos_abs = gdf.groupby('estrato_abs')[variables].mean()\n"
      ],
      "metadata": {
        "id": "4_m0tJ0Nnobd"
      },
      "execution_count": null,
      "outputs": []
    },
    {
      "cell_type": "code",
      "source": [
        "# 9A. Asignación de colores según un score compuesto\n",
        "#    Se estandarizan las medias de cada estrato y se suma para obtener un score que permita ordenar los estratos.\n",
        "medias_norm_abs = (medias_estratos_abs - medias_estratos_abs.mean()) / medias_estratos_abs.std()\n",
        "medias_estratos_abs['score'] = medias_norm_abs.sum(axis=1)\n",
        "estratos_ordenados_abs = medias_estratos_abs.sort_values('score', ascending=False).index\n",
        "\n",
        "#    Mapeo de colores: los estratos con mayor score se asignan colores 'Verde', intermedios 'Amarillo' y menores 'Rojo'.\n",
        "mapeo_colores_abs = {\n",
        "    estratos_ordenados_abs[0]: 'Verde',\n",
        "    estratos_ordenados_abs[1]: 'Verde',\n",
        "    estratos_ordenados_abs[2]: 'Amarillo',\n",
        "    estratos_ordenados_abs[3]: 'Rojo',\n",
        "    estratos_ordenados_abs[4]: 'Rojo'\n",
        "}\n",
        "gdf['color_abs'] = gdf['estrato_abs'].map(mapeo_colores_abs)"
      ],
      "metadata": {
        "id": "TMCQ6G8nnq-d"
      },
      "execution_count": null,
      "outputs": []
    },
    {
      "cell_type": "code",
      "source": [
        "\n",
        "# 10A. Exportar resultado a Shapefile y mostrar resultados\n",
        "output_shp_abs = \"estratificacion_valores_absolutos.shp\"\n",
        "gdf.to_file(output_shp_abs)\n",
        "print(\"Resultados - Clusterización con valores absolutos:\")\n",
        "print(\"\\nMedias por estrato:\")\n",
        "print(medias_estratos_abs.drop(columns='score'))\n",
        "print(\"\\nAsignación de colores:\")\n",
        "print(mapeo_colores_abs)"
      ],
      "metadata": {
        "colab": {
          "base_uri": "https://localhost:8080/"
        },
        "id": "NLwx9WNcnuN2",
        "outputId": "a16f98d6-f546-40f8-b034-82e6b9c73ae0"
      },
      "execution_count": null,
      "outputs": [
        {
          "output_type": "stream",
          "name": "stderr",
          "text": [
            "<ipython-input-14-d5ccd3516e9d>:3: UserWarning: Column names longer than 10 characters will be truncated when saved to ESRI Shapefile.\n",
            "  gdf.to_file(output_shp_abs)\n"
          ]
        },
        {
          "output_type": "stream",
          "name": "stdout",
          "text": [
            "Resultados - Clusterización con valores absolutos:\n",
            "\n",
            "Medias por estrato:\n",
            "                 VPH_CEL    VPH_INTER    VPH_STVP  VPH_SPMVPI     VPH_CVJ\n",
            "estrato_abs                                                              \n",
            "0              20.260696    16.382842   10.057458    7.102067    4.662388\n",
            "1             181.257699   156.381793  104.168478   88.448822   48.830616\n",
            "2             395.596730   359.485014  253.359673  227.730245  125.741144\n",
            "3              70.728492    58.104112   36.002552   26.260755   15.731684\n",
            "4            1170.434783  1087.043478  794.695652  728.956522  394.478261\n",
            "\n",
            "Asignación de colores:\n",
            "{4: 'Verde', 2: 'Verde', 1: 'Amarillo', 3: 'Rojo', 0: 'Rojo'}\n"
          ]
        },
        {
          "output_type": "stream",
          "name": "stderr",
          "text": [
            "/usr/local/lib/python3.11/dist-packages/pyogrio/raw.py:723: RuntimeWarning: Normalized/laundered field name: 'estrato_abs' to 'estrato_ab'\n",
            "  ogr_write(\n"
          ]
        }
      ]
    },
    {
      "cell_type": "code",
      "source": [
        "#########################################\n",
        "# PARTE B: CLUSTERING CON PROPORCIONES\n",
        "#########################################\n",
        "\n",
        "# 11B. Calcular proporciones de cada servicio respecto al total de viviendas habitadas\n",
        "#      Esto permite evaluar la penetración de cada servicio independientemente del tamaño absoluto de la vivienda.\n",
        "gdf[\"CEL_PROP\"]    = np.where(gdf[\"TVIVHAB\"] == 0, 0, gdf[\"VPH_CEL\"]    / gdf[\"TVIVHAB\"])\n",
        "gdf[\"INTER_PROP\"]  = np.where(gdf[\"TVIVHAB\"] == 0, 0, gdf[\"VPH_INTER\"]  / gdf[\"TVIVHAB\"])\n",
        "gdf[\"STVP_PROP\"]   = np.where(gdf[\"TVIVHAB\"] == 0, 0, gdf[\"VPH_STVP\"]   / gdf[\"TVIVHAB\"])\n",
        "gdf[\"SPMVPI_PROP\"] = np.where(gdf[\"TVIVHAB\"] == 0, 0, gdf[\"VPH_SPMVPI\"] / gdf[\"TVIVHAB\"])\n",
        "gdf[\"CVJ_PROP\"]    = np.where(gdf[\"TVIVHAB\"] == 0, 0, gdf[\"VPH_CVJ\"]    / gdf[\"TVIVHAB\"])\n"
      ],
      "metadata": {
        "id": "B7enB6sZnzct"
      },
      "execution_count": null,
      "outputs": []
    },
    {
      "cell_type": "code",
      "source": [
        "# 12B. Seleccionar las columnas de proporción para el clustering\n",
        "vars_cluster_prop = [\"CEL_PROP\", \"INTER_PROP\", \"STVP_PROP\", \"SPMVPI_PROP\", \"CVJ_PROP\"]\n",
        "X_prop = gdf[vars_cluster_prop].fillna(0)"
      ],
      "metadata": {
        "id": "aZf7OmQwn-PX"
      },
      "execution_count": null,
      "outputs": []
    },
    {
      "cell_type": "code",
      "source": [
        "# 13B. Aplicación de K-Means (5 clusters) sobre las proporciones\n",
        "#      Al usar proporciones, la escala ya es comparable, por lo que no es necesario estandarizar.\n",
        "kmeans_prop = KMeans(n_clusters=5, random_state=42)\n",
        "gdf[\"estrato_prop\"] = kmeans_prop.fit_predict(X_prop)"
      ],
      "metadata": {
        "id": "PsVe6zrCoLEu"
      },
      "execution_count": null,
      "outputs": []
    },
    {
      "cell_type": "code",
      "source": [
        "# 14B. Cálculo de medias por estrato (proporciones) y redondeo\n",
        "medias_estratos_prop = gdf.groupby(\"estrato_prop\")[vars_cluster_prop].mean().round(4)"
      ],
      "metadata": {
        "id": "1efDy2ukoM_-"
      },
      "execution_count": null,
      "outputs": []
    },
    {
      "cell_type": "code",
      "source": [
        "# 15B. Asignación de colores basada en un score compuesto\n",
        "#      Se estandarizan las medias, se suman para formar un score y se ordenan los estratos.\n",
        "medias_norm_prop = (medias_estratos_prop - medias_estratos_prop.mean()) / medias_estratos_prop.std()\n",
        "medias_estratos_prop[\"score\"] = medias_norm_prop.sum(axis=1)\n",
        "estratos_ordenados_prop = medias_estratos_prop.sort_values(\"score\", ascending=False).index\n",
        "\n",
        "mapeo_colores_prop = {\n",
        "    estratos_ordenados_prop[0]: 'Verde',\n",
        "    estratos_ordenados_prop[1]: 'Verde',\n",
        "    estratos_ordenados_prop[2]: 'Amarillo',\n",
        "    estratos_ordenados_prop[3]: 'Rojo',\n",
        "    estratos_ordenados_prop[4]: 'Rojo'\n",
        "}\n",
        "gdf[\"color_prop\"] = gdf[\"estrato_prop\"].map(mapeo_colores_prop)"
      ],
      "metadata": {
        "id": "7DIg6n30oPlt"
      },
      "execution_count": null,
      "outputs": []
    },
    {
      "cell_type": "code",
      "source": [
        "# 16B. Exportar el resultado de la clusterización basada en proporciones a Shapefile\n",
        "output_shp_prop = \"estratificacion_proporcion.shp\"\n",
        "gdf.to_file(output_shp_prop)\n",
        "print(f\"\\nShapefile generado: {output_shp_prop}\")"
      ],
      "metadata": {
        "colab": {
          "base_uri": "https://localhost:8080/"
        },
        "id": "COAhvwPDoSY9",
        "outputId": "52c0dee6-a01a-4002-a47e-afd6c11c941e"
      },
      "execution_count": null,
      "outputs": [
        {
          "output_type": "stream",
          "name": "stderr",
          "text": [
            "<ipython-input-20-be1d8bab3d1b>:3: UserWarning: Column names longer than 10 characters will be truncated when saved to ESRI Shapefile.\n",
            "  gdf.to_file(output_shp_prop)\n",
            "/usr/local/lib/python3.11/dist-packages/pyogrio/raw.py:723: RuntimeWarning: Normalized/laundered field name: 'estrato_abs' to 'estrato_ab'\n",
            "  ogr_write(\n",
            "/usr/local/lib/python3.11/dist-packages/pyogrio/raw.py:723: RuntimeWarning: Normalized/laundered field name: 'SPMVPI_PROP' to 'SPMVPI_PRO'\n",
            "  ogr_write(\n",
            "/usr/local/lib/python3.11/dist-packages/pyogrio/raw.py:723: RuntimeWarning: Normalized/laundered field name: 'estrato_prop' to 'estrato_pr'\n",
            "  ogr_write(\n"
          ]
        },
        {
          "output_type": "stream",
          "name": "stdout",
          "text": [
            "\n",
            "Shapefile generado: estratificacion_proporcion.shp\n"
          ]
        }
      ]
    },
    {
      "cell_type": "code",
      "source": [
        "# 17B. Mostrar resultados de la clusterización basada en proporciones\n",
        "print(\"\\nResultados - Clusterización con proporciones:\")\n",
        "print(\"\\nMedias por estrato (proporciones):\")\n",
        "print(medias_estratos_prop.drop(columns=\"score\"))\n",
        "print(\"\\nScore por estrato:\")\n",
        "print(medias_estratos_prop[[\"score\"]])\n",
        "print(\"\\nAsignación de colores:\")\n",
        "print(mapeo_colores_prop)\n",
        "\n",
        "# 18. Cierre de la conexión a la base de datos\n",
        "con.close()"
      ],
      "metadata": {
        "colab": {
          "base_uri": "https://localhost:8080/"
        },
        "id": "4NA7YRFdoVte",
        "outputId": "8a4574b6-3d09-463e-a71f-595f4322256a"
      },
      "execution_count": null,
      "outputs": [
        {
          "output_type": "stream",
          "name": "stdout",
          "text": [
            "\n",
            "Resultados - Clusterización con proporciones:\n",
            "\n",
            "Medias por estrato (proporciones):\n",
            "              CEL_PROP  INTER_PROP  STVP_PROP  SPMVPI_PROP  CVJ_PROP\n",
            "estrato_prop                                                        \n",
            "0               0.8986      0.6975     0.3830       0.2196    0.1608\n",
            "1               0.0078      0.0106     0.0024       0.0008    0.0003\n",
            "2               0.8751      0.5684     0.1842       0.0903    0.0719\n",
            "3               0.9702      0.9332     0.7350       0.6558    0.3508\n",
            "4               0.9350      0.8267     0.5501       0.3950    0.2439\n",
            "\n",
            "Score por estrato:\n",
            "                 score\n",
            "estrato_prop          \n",
            "0             0.449276\n",
            "1            -6.945332\n",
            "2            -1.791302\n",
            "3             5.540234\n",
            "4             2.747124\n",
            "\n",
            "Asignación de colores:\n",
            "{3: 'Verde', 4: 'Verde', 0: 'Amarillo', 2: 'Rojo', 1: 'Rojo'}\n"
          ]
        }
      ]
    },
    {
      "cell_type": "code",
      "source": [
        "# 19B. Mostrar las medias de los valores absolutos por estrato\n",
        "# Utilizando la clusterización basada en proporciones (ejemplo B), calculamos las medias de las variables absolutas:\n",
        "variables_abs = ['VPH_CEL', 'VPH_INTER', 'VPH_STVP', 'VPH_SPMVPI', 'VPH_CVJ']\n",
        "medias_abs_por_estrato = gdf.groupby(\"estrato_prop\")[variables_abs].mean().round(2)\n",
        "\n",
        "print(\"\\nMedias de valores absolutos por estrato (usando clusterización del ejemplo B):\")\n",
        "print(medias_abs_por_estrato)\n"
      ],
      "metadata": {
        "colab": {
          "base_uri": "https://localhost:8080/"
        },
        "id": "JQVj4d4OoYHW",
        "outputId": "32909329-1503-4f41-b57c-341a870fd450"
      },
      "execution_count": null,
      "outputs": [
        {
          "output_type": "stream",
          "name": "stdout",
          "text": [
            "\n",
            "Medias de valores absolutos por estrato (usando clusterización del ejemplo B):\n",
            "              VPH_CEL  VPH_INTER  VPH_STVP  VPH_SPMVPI  VPH_CVJ\n",
            "estrato_prop                                                   \n",
            "0               42.68      32.64     17.52       11.42     8.66\n",
            "1                0.08       0.07      0.03        0.02     0.00\n",
            "2               26.61      17.65      7.97        4.38     3.53\n",
            "3               49.10      47.04     36.38       33.43    17.92\n",
            "4               43.38      37.89     24.98       18.75    12.09\n"
          ]
        }
      ]
    },
    {
      "cell_type": "code",
      "source": [],
      "metadata": {
        "id": "TEAYTTDRpCEu"
      },
      "execution_count": null,
      "outputs": []
    }
  ]
}