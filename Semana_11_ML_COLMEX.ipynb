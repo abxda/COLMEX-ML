{
  "nbformat": 4,
  "nbformat_minor": 0,
  "metadata": {
    "colab": {
      "provenance": [],
      "authorship_tag": "ABX9TyM6bvCJgSfH04PY/nv8EEcv",
      "include_colab_link": true
    },
    "kernelspec": {
      "name": "python3",
      "display_name": "Python 3"
    },
    "language_info": {
      "name": "python"
    }
  },
  "cells": [
    {
      "cell_type": "markdown",
      "metadata": {
        "id": "view-in-github",
        "colab_type": "text"
      },
      "source": [
        "<a href=\"https://colab.research.google.com/github/abxda/COLMEX-ML/blob/main/Semana_11_ML_COLMEX.ipynb\" target=\"_parent\"><img src=\"https://colab.research.google.com/assets/colab-badge.svg\" alt=\"Open In Colab\"/></a>"
      ]
    },
    {
      "cell_type": "code",
      "source": [
        "pip install --upgrade pycaret"
      ],
      "metadata": {
        "collapsed": true,
        "id": "chn7NA6zQkpM"
      },
      "execution_count": null,
      "outputs": []
    },
    {
      "cell_type": "code",
      "source": [
        "#REINICIAR SESION"
      ],
      "metadata": {
        "id": "6jbioob1dXr3"
      },
      "execution_count": null,
      "outputs": []
    },
    {
      "cell_type": "code",
      "source": [
        "# check installed version\n",
        "import pycaret\n",
        "pycaret.__version__"
      ],
      "metadata": {
        "id": "81fg0NPhLjOY"
      },
      "execution_count": null,
      "outputs": []
    },
    {
      "cell_type": "code",
      "source": [
        "from pycaret.classification import *"
      ],
      "metadata": {
        "id": "0GSiEfwmPG6l"
      },
      "execution_count": null,
      "outputs": []
    },
    {
      "cell_type": "code",
      "execution_count": null,
      "metadata": {
        "id": "CgTyZCwlKg-y"
      },
      "outputs": [],
      "source": [
        "\n",
        "!gdown --id 1LVPNaUxto31HE-UQIO1-4l6XPER9Ry5l\n",
        "\n",
        "!gdown --id 1gYWtwKDpJK0_uBOJvvwkXK8Hy8w8mL0p\n"
      ]
    },
    {
      "cell_type": "code",
      "source": [
        "\n",
        "import duckdb\n",
        "import pandas as pd\n",
        "import geopandas as gpd\n",
        "from shapely import wkb\n",
        "import sys\n",
        "import numpy as np\n"
      ],
      "metadata": {
        "id": "yeftUkFQKtRT"
      },
      "execution_count": null,
      "outputs": []
    },
    {
      "cell_type": "code",
      "source": [
        "import duckdb\n",
        "import pandas as pd\n",
        "\n",
        "# --- Configuración ---\n",
        "db_file = '/content/denue_total_est_per_ocu_final_5.duckdb'\n",
        "table_name = \"nacional_final_completa_con_censo\"\n",
        "geometry_column_to_exclude = \"geometry\" # Asegúrate que este es el nombre correcto\n",
        "\n",
        "# --- Conexión y Extracción de Datos (Sin Geometría) ---\n",
        "conn = duckdb.connect(database=db_file) # Sin read_only si solo lees es igual, pero así es más parecido al segundo bloque del original\n",
        "\n",
        "query = f\"\"\"\n",
        "    SELECT * EXCLUDE ({geometry_column_to_exclude})\n",
        "    FROM \"{table_name}\"\n",
        "\"\"\"\n",
        "df = conn.execute(query).df()\n",
        "\n",
        "\n",
        "conn.close()\n",
        "\n",
        "# --- Cálculos (Igual que en el original) ---\n",
        "\n",
        "# 7. Realizar las operaciones aritméticas directamente sobre 'gdf'\n",
        "df[\"epo_100\"] = df[\"epo_100\"] - df[\"personal\"]\n",
        "df[\"epo_500\"] = df[\"epo_500\"] - df[\"personal\"]\n",
        "df[\"act_46_100\"] = df[\"act_46_100\"] - df[\"personal\"]\n",
        "df[\"act_46_500\"] = df[\"act_46_500\"] - df[\"personal\"]\n",
        "\n"
      ],
      "metadata": {
        "id": "nIdE1pmRKtia"
      },
      "execution_count": null,
      "outputs": []
    },
    {
      "cell_type": "code",
      "source": [
        "df['klass'] = df['klass'].replace({2: 0})"
      ],
      "metadata": {
        "id": "Y1ggob89rXq3"
      },
      "execution_count": null,
      "outputs": []
    },
    {
      "cell_type": "code",
      "source": [
        "X = df.drop(columns=['klass', 'id', 'codigo_act','codigo_act_2c','clee','nom_estab','cve_ent','personal'])\n",
        "y = df[\"klass\"]\n",
        "\n",
        "from sklearn.model_selection import train_test_split\n",
        "\n",
        "# Dividir los datos en conjuntos de entrenamiento y prueba\n",
        "X_train, X_test, y_train, y_test = train_test_split(X, y, test_size=0.20)\n"
      ],
      "metadata": {
        "id": "PGxJX2smN8th"
      },
      "execution_count": null,
      "outputs": []
    },
    {
      "cell_type": "code",
      "source": [
        "import pandas as pd\n",
        "\n",
        "# Combinar X_train y y_train\n",
        "df_train = pd.concat([X_train.reset_index(drop=True),\n",
        "                     y_train.reset_index(drop=True)], axis=1)"
      ],
      "metadata": {
        "id": "Q5VSccQQLtjh"
      },
      "execution_count": null,
      "outputs": []
    },
    {
      "cell_type": "code",
      "source": [
        "df_train.head()"
      ],
      "metadata": {
        "id": "t3BeoT0GN2fz"
      },
      "execution_count": null,
      "outputs": []
    },
    {
      "cell_type": "code",
      "source": [
        "s = setup(df_train, target = 'klass', session_id = 123)"
      ],
      "metadata": {
        "id": "NnVmhWE1PuX_"
      },
      "execution_count": null,
      "outputs": []
    },
    {
      "cell_type": "code",
      "source": [],
      "metadata": {
        "id": "MsQkF33gqdWY"
      },
      "execution_count": null,
      "outputs": []
    },
    {
      "cell_type": "code",
      "source": [
        "best = compare_models(sort = 'Accuracy', exclude=['gbc'])"
      ],
      "metadata": {
        "id": "nyHYg9rEPTV_"
      },
      "execution_count": null,
      "outputs": []
    },
    {
      "cell_type": "code",
      "source": [
        "#No ejecutar en clase\n",
        "#tuned_model = tune_model(best, optimize = 'Accuracy', fold=10)"
      ],
      "metadata": {
        "id": "gdIfd-xgPqq1"
      },
      "execution_count": null,
      "outputs": []
    },
    {
      "cell_type": "code",
      "source": [],
      "metadata": {
        "id": "caaCAjvnwLjP"
      },
      "execution_count": null,
      "outputs": []
    },
    {
      "cell_type": "code",
      "source": [
        "evaluate_model(best)"
      ],
      "metadata": {
        "id": "To3jczEv_TuR"
      },
      "execution_count": null,
      "outputs": []
    },
    {
      "cell_type": "code",
      "source": [
        "best.get_params()"
      ],
      "metadata": {
        "id": "sQwxrXdafWfu"
      },
      "execution_count": null,
      "outputs": []
    },
    {
      "cell_type": "code",
      "source": [
        "save_model(best, 'mi_modelo_gb')"
      ],
      "metadata": {
        "id": "M7LnkxN5f0E8"
      },
      "execution_count": null,
      "outputs": []
    },
    {
      "cell_type": "code",
      "source": [
        "interpret_model(best)"
      ],
      "metadata": {
        "id": "kh5hY4Jm_hxy"
      },
      "execution_count": null,
      "outputs": []
    },
    {
      "cell_type": "code",
      "source": [],
      "metadata": {
        "id": "Lf8ujcIeIU6L"
      },
      "execution_count": null,
      "outputs": []
    },
    {
      "cell_type": "code",
      "source": [],
      "metadata": {
        "id": "RTsvvvtUpdV-"
      },
      "execution_count": null,
      "outputs": []
    },
    {
      "cell_type": "code",
      "source": [],
      "metadata": {
        "id": "mJkIvNsFpzmX"
      },
      "execution_count": null,
      "outputs": []
    }
  ]
}